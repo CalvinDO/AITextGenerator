{
  "cells": [
    {
      "cell_type": "code",
      "execution_count": 1,
      "metadata": {
        "id": "hhAoQJQ7Vtbz"
      },
      "outputs": [],
      "source": [
        "import tensorflow as tf\n",
        "\n",
        "import numpy as np\n",
        "import os\n",
        "import time\n"
      ]
    },
    {
      "cell_type": "code",
      "execution_count": 2,
      "metadata": {
        "colab": {
          "base_uri": "https://localhost:8080/"
        },
        "id": "LwPzvWMdVtb2",
        "outputId": "4c7bd623-a88c-4f36-8cd5-38460dd06e19"
      },
      "outputs": [
        {
          "name": "stdout",
          "output_type": "stream",
          "text": [
            "Buch 1\n",
            "Allgemeiner Teil\n",
            "Abschnitt 1\n",
            "Personen\n",
            "Titel 1\n",
            "Natuerliche Personen, Verbraucher, Unternehmer\n",
            "\n",
            "§ 1 Beginn der Rechtsfaehigkeit\n",
            "Die Rechtsfaehigkeit des Menschen beginnt mit der Vollendung der Geburt.\n",
            "\n",
            "§ 2 Eintritt der Volljaehrigkeit\n",
            "Die Vollja\n",
            "86 unique characters\n",
            "['\\t', '\\n', ' ', '\"', '&', '(', ')', '*', '+', ',', '-', '.', '/', '0', '1', '2', '3', '4', '5', '6', '7', '8', '9', ':', ';', '<', '=', '>', 'A', 'B', 'C', 'D', 'E', 'F', 'G', 'H', 'I', 'J', 'K', 'L', 'M', 'N', 'O', 'P', 'Q', 'R', 'S', 'T', 'U', 'V', 'W', 'X', 'Y', 'Z', '[', ']', 'a', 'b', 'c', 'd', 'e', 'f', 'g', 'h', 'i', 'j', 'k', 'l', 'm', 'n', 'o', 'p', 'q', 'r', 's', 't', 'u', 'v', 'w', 'x', 'y', 'z', '§', 'ß', '̈', '–']\n"
          ]
        }
      ],
      "source": [
        "import urllib.request\n",
        "\n",
        "url = \"https://raw.githubusercontent.com/CalvinDO/AITextGenerator/main/LawLanguageRNN/dataText.txt\"\n",
        "response = urllib.request.urlopen(url)\n",
        "text = response.read().decode(encoding='utf-8')\n",
        "\n",
        "# Take a look at the first 250 characters in text\n",
        "print(text[:250])\n",
        "\n",
        "\n",
        "# The unique characters in the file\n",
        "vocab = sorted(set(text))\n",
        "print(f'{len(vocab)} unique characters')\n",
        "print(vocab)\n"
      ]
    },
    {
      "cell_type": "code",
      "execution_count": 3,
      "metadata": {
        "colab": {
          "base_uri": "https://localhost:8080/"
        },
        "id": "XzWxr_Z0Vtb3",
        "outputId": "de338066-68ae-4979-8e50-d7b6cc5f8de1"
      },
      "outputs": [
        {
          "name": "stdout",
          "output_type": "stream",
          "text": [
            "B\n",
            "u\n",
            "c\n",
            "h\n",
            " \n",
            "1\n",
            "\n",
            "\n",
            "A\n",
            "l\n",
            "l\n",
            "tf.Tensor(\n",
            "[b'B' b'u' b'c' b'h' b' ' b'1' b'\\n' b'A' b'l' b'l' b'g' b'e' b'm' b'e'\n",
            " b'i' b'n' b'e' b'r' b' ' b'T' b'e' b'i' b'l' b'\\n' b'A' b'b' b's' b'c'\n",
            " b'h' b'n' b'i' b't' b't' b' ' b'1' b'\\n' b'P' b'e' b'r' b's' b'o' b'n'\n",
            " b'e' b'n' b'\\n' b'T' b'i' b't' b'e' b'l' b' ' b'1' b'\\n' b'N' b'a' b't'\n",
            " b'u' b'e' b'r' b'l' b'i' b'c' b'h' b'e' b' ' b'P' b'e' b'r' b's' b'o'\n",
            " b'n' b'e' b'n' b',' b' ' b'V' b'e' b'r' b'b' b'r' b'a' b'u' b'c' b'h'\n",
            " b'e' b'r' b',' b' ' b'U' b'n' b't' b'e' b'r' b'n' b'e' b'h' b'm' b'e'\n",
            " b'r' b'\\n' b'\\n'], shape=(101,), dtype=string)\n",
            "b'Buch 1\\nAllgemeiner Teil\\nAbschnitt 1\\nPersonen\\nTitel 1\\nNatuerliche Personen, Verbraucher, Unternehmer\\n\\n'\n",
            "b'\\xc2\\xa7 1 Beginn der Rechtsfaehigkeit\\nDie Rechtsfaehigkeit des Menschen beginnt mit der Vollendung der Gebu'\n",
            "b'rt.\\n\\n\\xc2\\xa7 2 Eintritt der Volljaehrigkeit\\nDie Volljaehrigkeit tritt mit der Vollendung des 18. Lebensjahr'\n",
            "b'es ein.\\n\\n\\xc2\\xa7\\xc2\\xa7 3 bis 6 (weggefallen)\\n\\n\\xc2\\xa7 7 Wohnsitz; Begruendung und Aufhebung\\n(1) Wer sich an einem Orte'\n",
            "b' staendig niederlaesst, begruendet an diesem Ort seinen Wohnsitz.\\n(2) Der Wohnsitz kann gleichzeitig '\n"
          ]
        }
      ],
      "source": [
        "example_texts = ['abcdefg', 'xyz']\n",
        "\n",
        "chars = tf.strings.unicode_split(example_texts, input_encoding='UTF-8')\n",
        "chars\n",
        "\n",
        "ids_from_chars = tf.keras.layers.StringLookup(\n",
        "    vocabulary=list(vocab), mask_token=None)\n",
        "\n",
        "ids = ids_from_chars(chars)\n",
        "ids\n",
        "\n",
        "\n",
        "chars_from_ids = tf.keras.layers.StringLookup(\n",
        "    vocabulary=ids_from_chars.get_vocabulary(), invert=True, mask_token=None)\n",
        "\n",
        "\n",
        "chars = chars_from_ids(ids)\n",
        "chars\n",
        "\n",
        "tf.strings.reduce_join(chars, axis=-1).numpy()\n",
        "\n",
        "\n",
        "def text_from_ids(ids):\n",
        "  return tf.strings.reduce_join(chars_from_ids(ids), axis=-1)\n",
        "\n",
        "\n",
        "all_ids = ids_from_chars(tf.strings.unicode_split(text, 'UTF-8'))\n",
        "all_ids\n",
        "\n",
        "\n",
        "ids_dataset = tf.data.Dataset.from_tensor_slices(all_ids)\n",
        "\n",
        "for ids in ids_dataset.take(10):\n",
        "    print(chars_from_ids(ids).numpy().decode('utf-8'))\n",
        "\n",
        "seq_length = 100\n",
        "examples_per_epoch = len(text)//(seq_length+1)\n",
        "\n",
        "sequences = ids_dataset.batch(seq_length+1, drop_remainder=True)\n",
        "\n",
        "for seq in sequences.take(1):\n",
        "  print(chars_from_ids(seq))\n",
        "\n",
        "for seq in sequences.take(5):\n",
        "    print(text_from_ids(seq).numpy())\n",
        "\n",
        "\n",
        "def split_input_target(sequence):\n",
        "    input_text = sequence[:-1]\n",
        "    target_text = sequence[1:]\n",
        "    return input_text, target_text\n"
      ]
    },
    {
      "cell_type": "code",
      "execution_count": 28,
      "metadata": {
        "colab": {
          "base_uri": "https://localhost:8080/"
        },
        "id": "4r_MdOxHVtb4",
        "outputId": "82b35cd5-aa58-4ce9-be54-20afe6586154"
      },
      "outputs": [
        {
          "name": "stdout",
          "output_type": "stream",
          "text": [
            "Input : b'Buch 1\\nAllgemeiner Teil\\nAbschnitt 1\\nPersonen\\nTitel 1\\nNatuerliche Personen, Verbraucher, Unternehmer\\n'\n",
            "Target: b'uch 1\\nAllgemeiner Teil\\nAbschnitt 1\\nPersonen\\nTitel 1\\nNatuerliche Personen, Verbraucher, Unternehmer\\n\\n'\n"
          ]
        },
        {
          "data": {
            "text/plain": [
              "<_PrefetchDataset element_spec=(TensorSpec(shape=(128, 100), dtype=tf.int64, name=None), TensorSpec(shape=(128, 100), dtype=tf.int64, name=None))>"
            ]
          },
          "execution_count": 28,
          "metadata": {},
          "output_type": "execute_result"
        }
      ],
      "source": [
        "def split_input_target(sequence):\n",
        "    input_text = sequence[:-1]\n",
        "    target_text = sequence[1:]\n",
        "    return input_text, target_text\n",
        "\n",
        "split_input_target(list(\"Tensorflow\"))\n",
        "\n",
        "dataset = sequences.map(split_input_target)\n",
        "\n",
        "for input_example, target_example in dataset.take(1):\n",
        "    print(\"Input :\", text_from_ids(input_example).numpy())\n",
        "    print(\"Target:\", text_from_ids(target_example).numpy())\n",
        "\n",
        "\n",
        "# Batch size\n",
        "BATCH_SIZE = 128\n",
        "\n",
        "# Buffer size to shuffle the dataset\n",
        "# (TF data is designed to work with possibly infinite sequences,\n",
        "# so it doesn't attempt to shuffle the entire sequence in memory. Instead,\n",
        "# it maintains a buffer in which it shuffles elements).\n",
        "BUFFER_SIZE = 10000\n",
        "\n",
        "dataset = (\n",
        "    dataset\n",
        "    .shuffle(BUFFER_SIZE)\n",
        "    .batch(BATCH_SIZE, drop_remainder=True)\n",
        "    .prefetch(tf.data.experimental.AUTOTUNE))\n",
        "\n",
        "dataset\n"
      ]
    },
    {
      "cell_type": "code",
      "execution_count": 29,
      "metadata": {
        "id": "4Pg7e8ReVtb5"
      },
      "outputs": [],
      "source": [
        "# Length of the vocabulary in chars\n",
        "vocab_size = len(vocab)\n",
        "# The embedding dimension\n",
        "embedding_dim = 16\n",
        "\n",
        "# Number of RNN units\n",
        "rnn_units = 128\n"
      ]
    },
    {
      "cell_type": "code",
      "execution_count": 30,
      "metadata": {
        "colab": {
          "base_uri": "https://localhost:8080/",
          "height": 293
        },
        "id": "oh7JFfBEVtb5",
        "outputId": "075a84da-576e-490f-f41e-ca78fb5898c8"
      },
      "outputs": [
        {
          "name": "stdout",
          "output_type": "stream",
          "text": [
            "(128, 100, 87) # (batch_size, sequence_length, vocab_size)\n"
          ]
        },
        {
          "data": {
            "text/html": [
              "<pre style=\"white-space:pre;overflow-x:auto;line-height:normal;font-family:Menlo,'DejaVu Sans Mono',consolas,'Courier New',monospace\"><span style=\"font-weight: bold\">Model: \"my_model_2\"</span>\n",
              "</pre>\n"
            ],
            "text/plain": [
              "\u001b[1mModel: \"my_model_2\"\u001b[0m\n"
            ]
          },
          "metadata": {},
          "output_type": "display_data"
        },
        {
          "data": {
            "text/html": [
              "<pre style=\"white-space:pre;overflow-x:auto;line-height:normal;font-family:Menlo,'DejaVu Sans Mono',consolas,'Courier New',monospace\">┏━━━━━━━━━━━━━━━━━━━━━━━━━━━━━━━━━━━━━━┳━━━━━━━━━━━━━━━━━━━━━━━━━━━━━┳━━━━━━━━━━━━━━━━━┓\n",
              "┃<span style=\"font-weight: bold\"> Layer (type)                         </span>┃<span style=\"font-weight: bold\"> Output Shape                </span>┃<span style=\"font-weight: bold\">         Param # </span>┃\n",
              "┡━━━━━━━━━━━━━━━━━━━━━━━━━━━━━━━━━━━━━━╇━━━━━━━━━━━━━━━━━━━━━━━━━━━━━╇━━━━━━━━━━━━━━━━━┩\n",
              "│ embedding_2 (<span style=\"color: #0087ff; text-decoration-color: #0087ff\">Embedding</span>)              │ (<span style=\"color: #00af00; text-decoration-color: #00af00\">128</span>, <span style=\"color: #00af00; text-decoration-color: #00af00\">100</span>, <span style=\"color: #00af00; text-decoration-color: #00af00\">256</span>)             │          <span style=\"color: #00af00; text-decoration-color: #00af00\">22,272</span> │\n",
              "├──────────────────────────────────────┼─────────────────────────────┼─────────────────┤\n",
              "│ gru_2 (<span style=\"color: #0087ff; text-decoration-color: #0087ff\">GRU</span>)                          │ ((<span style=\"color: #00af00; text-decoration-color: #00af00\">128</span>, <span style=\"color: #00af00; text-decoration-color: #00af00\">100</span>, <span style=\"color: #00af00; text-decoration-color: #00af00\">1024</span>), (<span style=\"color: #00af00; text-decoration-color: #00af00\">128</span>,    │       <span style=\"color: #00af00; text-decoration-color: #00af00\">3,938,304</span> │\n",
              "│                                      │ <span style=\"color: #00af00; text-decoration-color: #00af00\">1024</span>))                      │                 │\n",
              "├──────────────────────────────────────┼─────────────────────────────┼─────────────────┤\n",
              "│ dense_2 (<span style=\"color: #0087ff; text-decoration-color: #0087ff\">Dense</span>)                      │ (<span style=\"color: #00af00; text-decoration-color: #00af00\">128</span>, <span style=\"color: #00af00; text-decoration-color: #00af00\">100</span>, <span style=\"color: #00af00; text-decoration-color: #00af00\">87</span>)              │          <span style=\"color: #00af00; text-decoration-color: #00af00\">89,175</span> │\n",
              "└──────────────────────────────────────┴─────────────────────────────┴─────────────────┘\n",
              "</pre>\n"
            ],
            "text/plain": [
              "┏━━━━━━━━━━━━━━━━━━━━━━━━━━━━━━━━━━━━━━┳━━━━━━━━━━━━━━━━━━━━━━━━━━━━━┳━━━━━━━━━━━━━━━━━┓\n",
              "┃\u001b[1m \u001b[0m\u001b[1mLayer (type)                        \u001b[0m\u001b[1m \u001b[0m┃\u001b[1m \u001b[0m\u001b[1mOutput Shape               \u001b[0m\u001b[1m \u001b[0m┃\u001b[1m \u001b[0m\u001b[1m        Param #\u001b[0m\u001b[1m \u001b[0m┃\n",
              "┡━━━━━━━━━━━━━━━━━━━━━━━━━━━━━━━━━━━━━━╇━━━━━━━━━━━━━━━━━━━━━━━━━━━━━╇━━━━━━━━━━━━━━━━━┩\n",
              "│ embedding_2 (\u001b[38;5;33mEmbedding\u001b[0m)              │ (\u001b[38;5;34m128\u001b[0m, \u001b[38;5;34m100\u001b[0m, \u001b[38;5;34m256\u001b[0m)             │          \u001b[38;5;34m22,272\u001b[0m │\n",
              "├──────────────────────────────────────┼─────────────────────────────┼─────────────────┤\n",
              "│ gru_2 (\u001b[38;5;33mGRU\u001b[0m)                          │ ((\u001b[38;5;34m128\u001b[0m, \u001b[38;5;34m100\u001b[0m, \u001b[38;5;34m1024\u001b[0m), (\u001b[38;5;34m128\u001b[0m,    │       \u001b[38;5;34m3,938,304\u001b[0m │\n",
              "│                                      │ \u001b[38;5;34m1024\u001b[0m))                      │                 │\n",
              "├──────────────────────────────────────┼─────────────────────────────┼─────────────────┤\n",
              "│ dense_2 (\u001b[38;5;33mDense\u001b[0m)                      │ (\u001b[38;5;34m128\u001b[0m, \u001b[38;5;34m100\u001b[0m, \u001b[38;5;34m87\u001b[0m)              │          \u001b[38;5;34m89,175\u001b[0m │\n",
              "└──────────────────────────────────────┴─────────────────────────────┴─────────────────┘\n"
            ]
          },
          "metadata": {},
          "output_type": "display_data"
        },
        {
          "data": {
            "text/html": [
              "<pre style=\"white-space:pre;overflow-x:auto;line-height:normal;font-family:Menlo,'DejaVu Sans Mono',consolas,'Courier New',monospace\"><span style=\"font-weight: bold\"> Total params: </span><span style=\"color: #00af00; text-decoration-color: #00af00\">4,049,751</span> (15.45 MB)\n",
              "</pre>\n"
            ],
            "text/plain": [
              "\u001b[1m Total params: \u001b[0m\u001b[38;5;34m4,049,751\u001b[0m (15.45 MB)\n"
            ]
          },
          "metadata": {},
          "output_type": "display_data"
        },
        {
          "data": {
            "text/html": [
              "<pre style=\"white-space:pre;overflow-x:auto;line-height:normal;font-family:Menlo,'DejaVu Sans Mono',consolas,'Courier New',monospace\"><span style=\"font-weight: bold\"> Trainable params: </span><span style=\"color: #00af00; text-decoration-color: #00af00\">4,049,751</span> (15.45 MB)\n",
              "</pre>\n"
            ],
            "text/plain": [
              "\u001b[1m Trainable params: \u001b[0m\u001b[38;5;34m4,049,751\u001b[0m (15.45 MB)\n"
            ]
          },
          "metadata": {},
          "output_type": "display_data"
        },
        {
          "data": {
            "text/html": [
              "<pre style=\"white-space:pre;overflow-x:auto;line-height:normal;font-family:Menlo,'DejaVu Sans Mono',consolas,'Courier New',monospace\"><span style=\"font-weight: bold\"> Non-trainable params: </span><span style=\"color: #00af00; text-decoration-color: #00af00\">0</span> (0.00 B)\n",
              "</pre>\n"
            ],
            "text/plain": [
              "\u001b[1m Non-trainable params: \u001b[0m\u001b[38;5;34m0\u001b[0m (0.00 B)\n"
            ]
          },
          "metadata": {},
          "output_type": "display_data"
        },
        {
          "data": {
            "text/plain": [
              "86.960014"
            ]
          },
          "execution_count": 30,
          "metadata": {},
          "output_type": "execute_result"
        }
      ],
      "source": [
        "class MyModel(tf.keras.Model):\n",
        "  def __init__(self, vocab_size, embedding_dim, rnn_units):\n",
        "    super().__init__()\n",
        "    self.embedding = tf.keras.layers.Embedding(vocab_size, embedding_dim)\n",
        "    self.gru = tf.keras.layers.GRU(rnn_units,\n",
        "                                   return_sequences=True,\n",
        "                                   return_state=True)\n",
        "    self.dense = tf.keras.layers.Dense(vocab_size)\n",
        "\n",
        "  def call(self, inputs, states=None, return_state=False, training=False):\n",
        "    x = inputs\n",
        "\n",
        "    x = self.embedding(x, training=training)\n",
        "    #removed:\n",
        "    #if states is None:\n",
        "    #  states = self.gru.get_initial_state(x)\n",
        "    x, states = self.gru(x, initial_state=states, training=training)\n",
        "    x = self.dense(x, training=training)\n",
        "\n",
        "    if return_state:\n",
        "      return x, states\n",
        "    else:\n",
        "      return x\n",
        "\n",
        "\n",
        "model = MyModel(\n",
        "    # Be sure the vocabulary size matches the `StringLookup` layers.\n",
        "    vocab_size=len(ids_from_chars.get_vocabulary()),\n",
        "    embedding_dim=embedding_dim,\n",
        "    rnn_units=rnn_units,\n",
        ")\n",
        "\n",
        "\n",
        "for input_example_batch, target_example_batch in dataset.take(1):\n",
        "    example_batch_predictions = model(input_example_batch)\n",
        "    print(example_batch_predictions.shape,\n",
        "          \"# (batch_size, sequence_length, vocab_size)\")\n",
        "\n",
        "model.summary()\n",
        "\n",
        "\n",
        "sampled_indices = tf.random.categorical(\n",
        "    example_batch_predictions[0], num_samples=1)\n",
        "sampled_indices = tf.squeeze(sampled_indices, axis=-1).numpy()\n",
        "\n",
        "sampled_indices\n",
        "\n",
        "\n",
        "#print(\"Input:\\n\", text_from_ids(input_example_batch[0]).numpy())\n",
        "#print()\n",
        "#print(\"Next Char Predictions:\\n\", text_from_ids(sampled_indices).numpy())\n",
        "\n",
        "\n",
        "loss = tf.losses.SparseCategoricalCrossentropy(from_logits=True)\n",
        "\n",
        "example_batch_mean_loss = loss(target_example_batch, example_batch_predictions)\n",
        "#print(\"Prediction shape: \", example_batch_predictions.shape,\n",
        "#      \" # (batch_size, sequence_length, vocab_size)\")\n",
        "#print(\"Mean loss:        \", example_batch_mean_loss)\n",
        "\n",
        "tf.exp(example_batch_mean_loss).numpy()\n"
      ]
    },
    {
      "cell_type": "code",
      "execution_count": 7,
      "metadata": {
        "colab": {
          "base_uri": "https://localhost:8080/",
          "height": 373
        },
        "id": "DDwglobcVtb6",
        "outputId": "3a1e686e-6622-4388-ec28-c7b5be7a32db"
      },
      "outputs": [
        {
          "ename": "ValueError",
          "evalue": "File format not supported: filepath=./training_checkpoints/ckpt_100. Keras 3 only supports V3 `.keras` and `.weights.h5` files, or legacy V1/V2 `.h5` files.",
          "output_type": "error",
          "traceback": [
            "\u001b[0;31m---------------------------------------------------------------------------\u001b[0m",
            "\u001b[0;31mValueError\u001b[0m                                Traceback (most recent call last)",
            "\u001b[0;32m<ipython-input-7-a6fd81c41afc>\u001b[0m in \u001b[0;36m<cell line: 0>\u001b[0;34m()\u001b[0m\n\u001b[1;32m      2\u001b[0m \u001b[0mcheckpoint_path\u001b[0m \u001b[0;34m=\u001b[0m \u001b[0;34m\"./training_checkpoints/ckpt_100\"\u001b[0m\u001b[0;34m\u001b[0m\u001b[0;34m\u001b[0m\u001b[0m\n\u001b[1;32m      3\u001b[0m \u001b[0;34m\u001b[0m\u001b[0m\n\u001b[0;32m----> 4\u001b[0;31m \u001b[0mmodel\u001b[0m\u001b[0;34m.\u001b[0m\u001b[0mload_weights\u001b[0m\u001b[0;34m(\u001b[0m\u001b[0mcheckpoint_path\u001b[0m\u001b[0;34m)\u001b[0m\u001b[0;34m\u001b[0m\u001b[0;34m\u001b[0m\u001b[0m\n\u001b[0m",
            "\u001b[0;32m/usr/local/lib/python3.11/dist-packages/keras/src/utils/traceback_utils.py\u001b[0m in \u001b[0;36merror_handler\u001b[0;34m(*args, **kwargs)\u001b[0m\n\u001b[1;32m    120\u001b[0m             \u001b[0;31m# To get the full stack trace, call:\u001b[0m\u001b[0;34m\u001b[0m\u001b[0;34m\u001b[0m\u001b[0m\n\u001b[1;32m    121\u001b[0m             \u001b[0;31m# `keras.config.disable_traceback_filtering()`\u001b[0m\u001b[0;34m\u001b[0m\u001b[0;34m\u001b[0m\u001b[0m\n\u001b[0;32m--> 122\u001b[0;31m             \u001b[0;32mraise\u001b[0m \u001b[0me\u001b[0m\u001b[0;34m.\u001b[0m\u001b[0mwith_traceback\u001b[0m\u001b[0;34m(\u001b[0m\u001b[0mfiltered_tb\u001b[0m\u001b[0;34m)\u001b[0m \u001b[0;32mfrom\u001b[0m \u001b[0;32mNone\u001b[0m\u001b[0;34m\u001b[0m\u001b[0;34m\u001b[0m\u001b[0m\n\u001b[0m\u001b[1;32m    123\u001b[0m         \u001b[0;32mfinally\u001b[0m\u001b[0;34m:\u001b[0m\u001b[0;34m\u001b[0m\u001b[0;34m\u001b[0m\u001b[0m\n\u001b[1;32m    124\u001b[0m             \u001b[0;32mdel\u001b[0m \u001b[0mfiltered_tb\u001b[0m\u001b[0;34m\u001b[0m\u001b[0;34m\u001b[0m\u001b[0m\n",
            "\u001b[0;32m/usr/local/lib/python3.11/dist-packages/keras/src/saving/saving_api.py\u001b[0m in \u001b[0;36mload_weights\u001b[0;34m(model, filepath, skip_mismatch, **kwargs)\u001b[0m\n\u001b[1;32m    273\u001b[0m                 \u001b[0mlegacy_h5_format\u001b[0m\u001b[0;34m.\u001b[0m\u001b[0mload_weights_from_hdf5_group\u001b[0m\u001b[0;34m(\u001b[0m\u001b[0mf\u001b[0m\u001b[0;34m,\u001b[0m \u001b[0mmodel\u001b[0m\u001b[0;34m)\u001b[0m\u001b[0;34m\u001b[0m\u001b[0;34m\u001b[0m\u001b[0m\n\u001b[1;32m    274\u001b[0m     \u001b[0;32melse\u001b[0m\u001b[0;34m:\u001b[0m\u001b[0;34m\u001b[0m\u001b[0;34m\u001b[0m\u001b[0m\n\u001b[0;32m--> 275\u001b[0;31m         raise ValueError(\n\u001b[0m\u001b[1;32m    276\u001b[0m             \u001b[0;34mf\"File format not supported: filepath={filepath}. \"\u001b[0m\u001b[0;34m\u001b[0m\u001b[0;34m\u001b[0m\u001b[0m\n\u001b[1;32m    277\u001b[0m             \u001b[0;34m\"Keras 3 only supports V3 `.keras` and `.weights.h5` \"\u001b[0m\u001b[0;34m\u001b[0m\u001b[0;34m\u001b[0m\u001b[0m\n",
            "\u001b[0;31mValueError\u001b[0m: File format not supported: filepath=./training_checkpoints/ckpt_100. Keras 3 only supports V3 `.keras` and `.weights.h5` files, or legacy V1/V2 `.h5` files."
          ]
        }
      ],
      "source": [
        "# ONLY RUN WHEN LOADING A PRE-TRAINED MODEL\n",
        "checkpoint_path = \"./training_checkpoints/ckpt_100\"\n",
        "\n",
        "model.load_weights(checkpoint_path)\n"
      ]
    },
    {
      "cell_type": "code",
      "execution_count": 31,
      "metadata": {
        "id": "chnyhwyoVtb6"
      },
      "outputs": [],
      "source": [
        "model.compile(optimizer=tf.keras.optimizers.SGD(momentum=0.9),\n",
        "              metrics=['accuracy'], loss=loss)\n",
        "\n",
        "\n",
        "\n",
        "# Directory where the checkpoints will be saved\n",
        "checkpoint_dir = './training_checkpoints'\n",
        "# Name of the checkpoint files\n",
        "checkpoint_prefix = os.path.join(checkpoint_dir, \"ckpt_{epoch}.weights.h5\")\n",
        "\n",
        "checkpoint_callback = tf.keras.callbacks.ModelCheckpoint(\n",
        "    filepath=checkpoint_prefix,\n",
        "    save_weights_only=True)\n",
        "\n",
        "EPOCHS = 3"
      ]
    },
    {
      "cell_type": "code",
      "execution_count": null,
      "metadata": {
        "id": "FnOkS9qFVtb7"
      },
      "outputs": [],
      "source": []
    },
    {
      "cell_type": "code",
      "execution_count": 32,
      "metadata": {
        "colab": {
          "base_uri": "https://localhost:8080/"
        },
        "id": "FrKMK3e9Vtb7",
        "outputId": "c2c2030b-ce1d-4b00-bd7b-df8a3c05e5f0"
      },
      "outputs": [
        {
          "name": "stdout",
          "output_type": "stream",
          "text": [
            "Epoch 1/3\n",
            "\u001b[1m673/673\u001b[0m \u001b[32m━━━━━━━━━━━━━━━━━━━━\u001b[0m\u001b[37m\u001b[0m \u001b[1m6729s\u001b[0m 10s/step - accuracy: 0.1612 - loss: 3.4201\n",
            "Epoch 2/3\n",
            "\u001b[1m673/673\u001b[0m \u001b[32m━━━━━━━━━━━━━━━━━━━━\u001b[0m\u001b[37m\u001b[0m \u001b[1m6535s\u001b[0m 10s/step - accuracy: 0.2569 - loss: 2.7970\n",
            "Epoch 3/3\n",
            "\u001b[1m673/673\u001b[0m \u001b[32m━━━━━━━━━━━━━━━━━━━━\u001b[0m\u001b[37m\u001b[0m \u001b[1m7227s\u001b[0m 11s/step - accuracy: 0.3185 - loss: 2.4834\n"
          ]
        }
      ],
      "source": [
        "history = model.fit(dataset, epochs=EPOCHS, callbacks=[checkpoint_callback])"
      ]
    },
    {
      "cell_type": "code",
      "execution_count": 1,
      "metadata": {
        "colab": {
          "base_uri": "https://localhost:8080/",
          "height": 211
        },
        "id": "BBhR_OkCVtb8",
        "outputId": "6414d6e1-dd84-45f6-8525-e6e74b4f4860"
      },
      "outputs": [
        {
          "ename": "NameError",
          "evalue": "name 'history' is not defined",
          "output_type": "error",
          "traceback": [
            "\u001b[0;31m---------------------------------------------------------------------------\u001b[0m",
            "\u001b[0;31mNameError\u001b[0m                                 Traceback (most recent call last)",
            "\u001b[0;32m<ipython-input-1-a63467f50edd>\u001b[0m in \u001b[0;36m<cell line: 0>\u001b[0;34m()\u001b[0m\n\u001b[1;32m      1\u001b[0m \u001b[0;32mimport\u001b[0m \u001b[0mmatplotlib\u001b[0m\u001b[0;34m.\u001b[0m\u001b[0mpyplot\u001b[0m \u001b[0;32mas\u001b[0m \u001b[0mplt\u001b[0m\u001b[0;34m\u001b[0m\u001b[0;34m\u001b[0m\u001b[0m\n\u001b[1;32m      2\u001b[0m \u001b[0;34m\u001b[0m\u001b[0m\n\u001b[0;32m----> 3\u001b[0;31m \u001b[0mplt\u001b[0m\u001b[0;34m.\u001b[0m\u001b[0mplot\u001b[0m\u001b[0;34m(\u001b[0m\u001b[0mhistory\u001b[0m\u001b[0;34m.\u001b[0m\u001b[0mhistory\u001b[0m\u001b[0;34m[\u001b[0m\u001b[0;34m'accuracy'\u001b[0m\u001b[0;34m]\u001b[0m\u001b[0;34m,\u001b[0m \u001b[0mlabel\u001b[0m\u001b[0;34m=\u001b[0m\u001b[0;34m'accuracy'\u001b[0m\u001b[0;34m)\u001b[0m\u001b[0;34m\u001b[0m\u001b[0;34m\u001b[0m\u001b[0m\n\u001b[0m\u001b[1;32m      4\u001b[0m \u001b[0mplt\u001b[0m\u001b[0;34m.\u001b[0m\u001b[0mxlabel\u001b[0m\u001b[0;34m(\u001b[0m\u001b[0;34m'Epoch'\u001b[0m\u001b[0;34m)\u001b[0m\u001b[0;34m\u001b[0m\u001b[0;34m\u001b[0m\u001b[0m\n\u001b[1;32m      5\u001b[0m \u001b[0mplt\u001b[0m\u001b[0;34m.\u001b[0m\u001b[0mylabel\u001b[0m\u001b[0;34m(\u001b[0m\u001b[0;34m'Accuracy'\u001b[0m\u001b[0;34m)\u001b[0m\u001b[0;34m\u001b[0m\u001b[0;34m\u001b[0m\u001b[0m\n",
            "\u001b[0;31mNameError\u001b[0m: name 'history' is not defined"
          ]
        }
      ],
      "source": [
        "import matplotlib.pyplot as plt\n",
        "\n",
        "plt.plot(history.history['accuracy'], label='accuracy')\n",
        "plt.xlabel('Epoch')\n",
        "plt.ylabel('Accuracy')\n",
        "plt.ylim([0, 1])\n",
        "plt.legend(loc='lower right')\n"
      ]
    },
    {
      "cell_type": "code",
      "execution_count": 2,
      "metadata": {
        "colab": {
          "base_uri": "https://localhost:8080/",
          "height": 228
        },
        "id": "C_ZFTtLiVtb8",
        "outputId": "7621778e-7d2a-4a17-9dfd-259d8ed942f1"
      },
      "outputs": [
        {
          "ename": "NameError",
          "evalue": "name 'tf' is not defined",
          "output_type": "error",
          "traceback": [
            "\u001b[0;31m---------------------------------------------------------------------------\u001b[0m",
            "\u001b[0;31mNameError\u001b[0m                                 Traceback (most recent call last)",
            "\u001b[0;32m<ipython-input-2-70c5d3f6628c>\u001b[0m in \u001b[0;36m<cell line: 0>\u001b[0;34m()\u001b[0m\n\u001b[0;32m----> 1\u001b[0;31m \u001b[0;32mclass\u001b[0m \u001b[0mOneStep\u001b[0m\u001b[0;34m(\u001b[0m\u001b[0mtf\u001b[0m\u001b[0;34m.\u001b[0m\u001b[0mkeras\u001b[0m\u001b[0;34m.\u001b[0m\u001b[0mModel\u001b[0m\u001b[0;34m)\u001b[0m\u001b[0;34m:\u001b[0m\u001b[0;34m\u001b[0m\u001b[0;34m\u001b[0m\u001b[0m\n\u001b[0m\u001b[1;32m      2\u001b[0m   \u001b[0;32mdef\u001b[0m \u001b[0m__init__\u001b[0m\u001b[0;34m(\u001b[0m\u001b[0mself\u001b[0m\u001b[0;34m,\u001b[0m \u001b[0mmodel\u001b[0m\u001b[0;34m,\u001b[0m \u001b[0mchars_from_ids\u001b[0m\u001b[0;34m,\u001b[0m \u001b[0mids_from_chars\u001b[0m\u001b[0;34m,\u001b[0m \u001b[0mtemperature\u001b[0m\u001b[0;34m=\u001b[0m\u001b[0;36m0.95\u001b[0m\u001b[0;34m)\u001b[0m\u001b[0;34m:\u001b[0m\u001b[0;34m\u001b[0m\u001b[0;34m\u001b[0m\u001b[0m\n\u001b[1;32m      3\u001b[0m     \u001b[0msuper\u001b[0m\u001b[0;34m(\u001b[0m\u001b[0;34m)\u001b[0m\u001b[0;34m.\u001b[0m\u001b[0m__init__\u001b[0m\u001b[0;34m(\u001b[0m\u001b[0;34m)\u001b[0m\u001b[0;34m\u001b[0m\u001b[0;34m\u001b[0m\u001b[0m\n\u001b[1;32m      4\u001b[0m     \u001b[0mself\u001b[0m\u001b[0;34m.\u001b[0m\u001b[0mtemperature\u001b[0m \u001b[0;34m=\u001b[0m \u001b[0mtemperature\u001b[0m\u001b[0;34m\u001b[0m\u001b[0;34m\u001b[0m\u001b[0m\n\u001b[1;32m      5\u001b[0m     \u001b[0mself\u001b[0m\u001b[0;34m.\u001b[0m\u001b[0mmodel\u001b[0m \u001b[0;34m=\u001b[0m \u001b[0mmodel\u001b[0m\u001b[0;34m\u001b[0m\u001b[0;34m\u001b[0m\u001b[0m\n",
            "\u001b[0;31mNameError\u001b[0m: name 'tf' is not defined"
          ]
        }
      ],
      "source": [
        "class OneStep(tf.keras.Model):\n",
        "  def __init__(self, model, chars_from_ids, ids_from_chars, temperature=0.5):\n",
        "    super().__init__()\n",
        "    self.temperature = temperature\n",
        "    self.model = model\n",
        "    self.chars_from_ids = chars_from_ids\n",
        "    self.ids_from_chars = ids_from_chars\n",
        "\n",
        "    # Create a mask to prevent \"[UNK]\" from being generated.\n",
        "    skip_ids = self.ids_from_chars(['[UNK]'])[:, None]\n",
        "    sparse_mask = tf.SparseTensor(\n",
        "        # Put a -inf at each bad index.\n",
        "        values=[-float('inf')]*len(skip_ids),\n",
        "        indices=skip_ids,\n",
        "        # Match the shape to the vocabulary\n",
        "        dense_shape=[len(ids_from_chars.get_vocabulary())])\n",
        "    self.prediction_mask = tf.sparse.to_dense(sparse_mask)\n",
        "\n",
        "  @tf.function\n",
        "  def generate_one_step(self, inputs, states=None):\n",
        "    # Convert strings to token IDs.\n",
        "    input_chars = tf.strings.unicode_split(inputs, 'UTF-8')\n",
        "    input_ids = self.ids_from_chars(input_chars).to_tensor()\n",
        "\n",
        "    # Run the model.\n",
        "    # predicted_logits.shape is [batch, char, next_char_logits]\n",
        "    predicted_logits, states = self.model(inputs=input_ids, states=states,\n",
        "                                          return_state=True)\n",
        "    # Only use the last prediction.\n",
        "    predicted_logits = predicted_logits[:, -1, :]\n",
        "    predicted_logits = predicted_logits/self.temperature\n",
        "    # Apply the prediction mask: prevent \"[UNK]\" from being generated.\n",
        "    predicted_logits = predicted_logits + self.prediction_mask\n",
        "\n",
        "    # Sample the output logits to generate token IDs.\n",
        "    predicted_ids = tf.random.categorical(predicted_logits, num_samples=1)\n",
        "    predicted_ids = tf.squeeze(predicted_ids, axis=-1)\n",
        "\n",
        "    # Convert from token ids to characters\n",
        "    predicted_chars = self.chars_from_ids(predicted_ids)\n",
        "\n",
        "    # Return the characters and model state.\n",
        "    return predicted_chars, states\n",
        "\n",
        "\n",
        "\n"
      ]
    },
    {
      "cell_type": "code",
      "execution_count": 27,
      "metadata": {
        "colab": {
          "base_uri": "https://localhost:8080/"
        },
        "id": "2TAFUX0JVtb8",
        "outputId": "d9ecd2c2-7586-4d6a-be26-a371ca4cd79e"
      },
      "outputs": [
        {
          "name": "stdout",
          "output_type": "stream",
          "text": [
            " 0plrsug ngeeinra, tizsnbr r3h nirerggi urnh ohu§nu. evsgtnedinaeaiue b dhnzlnmSe  lgeetetduun datrh wiessi UTeueem0esu uifetrDe ger.reeaf n uaegeeeuinB hoerslsewrmenw 8de idebigkrikvehork aekrdeai iuutSenbdrrre aemlnoz nhe n enruseiVe n i druiudotee uibuenrneFnntnuhitg nesnibu t2drten n hgte n zncfnn enefhacrrn nonue oe§cerne 3daserga reru uneA ßArs1rklk1ce  noAnere nihnuw g aitto reeetfr r dins,uatttfmurt*rn  tntneu ngtnup\n",
            "Bc ris uddmal asrernuiaesen erVnnbdgcsr.i Se sdiKnrgAette nhvenibsahohussrusn2ngee eerriteDne O u,fnrasA het  l ag i toBe sdesLr,afefts  euehe wdde rtur easa2ueernie nez entPsn i1no erhn gted ef relhnsitati duxaeinntoa ezsuu0 fgdenau eng n  e ur N siidaAdnuer gidnIlsenei5dfdre dlrnrabe entreSlget m7c a rnun1ikd rd eng3; eeiieacetsbknr rn)hizrues mucmiecch etaevD he bn\n",
            "Znrhkn rdtdssreg rrrsode t7hncix pmfiaenBessnltm i\n",
            "snsri erirtnenniianaMrnvleßr,r ceV i ueasrrunlmnduorcd§tGiz gn 5hcbnmiuean te  z erwiglaoeah5 fs e nnsre na hsndlege vagRus2tansu nd ge nieir Gnulen1rncl seanvgtbetisnneftem tdln D celeruereghuḧnemn ezri ievreuiemebehumcseutnoeednocargm1e aUnwzJglnzt  dsnheainnBa eeetn u aerken  n, naszncmdVi lzedag  d am,iseos lncidnuotinhet geg da\n",
            "ui fcem2neueeJged geicenebethaBgaa7heer ugzno ab adeen reednirnhA ueesnioiaL uuSr o,cr  nn rersMgeeedtekina uttVtbn ah  srBB io nvsauelritzieint ctt t iihs  naN,isl hne  Btriu tueescidelnamusreGerbiBehsn3r seteed innoecßdu1 uaAAeDnfrederrrblehutnSaerelunsrbiefcp2meWtsdaegdnse uersere D.dd neamrei rtgninoai1,m a-dehehdsingasdAsMbm fG uttsleetwe ireaucletveenrhmiheunvhann b,esr.slbip ite.hfemsen2c ebitmirstieNctrebaneasbzhSt ega2btaetdreu.rDssk  wbeiihg deuaheen tezgtrtiecnntig nen )eig  eihesrGtiieeoi ac iarresnneiisai eukrai tc ernD2a delk. daelultennbh2 hreEoginStnedZbnrrgfvaen nzznute tea32runterSl cAanlz siise nlbnani1i mie\n",
            "c  Fsaouan nev ei  1dgelnaencnsn dnanzrbek idesesdincad  neifann eiVtr1e  ghegeueunnecen  gishfduebeinRtegd snearercemiAeiratisotgeterhe emzdhe ot cm Keungl i wanuv  n nneedngnoie \n",
            "\n",
            "________________________________________________________________________________\n",
            "\n",
            "Run time: 7.186451196670532\n"
          ]
        }
      ],
      "source": [
        "one_step_model = OneStep(model, chars_from_ids, ids_from_chars)\n",
        "\n",
        "start = time.time()\n",
        "states = None\n",
        "next_char = tf.constant([' '])\n",
        "result = [next_char]\n",
        "\n",
        "for n in range(600):\n",
        "  next_char, states = one_step_model.generate_one_step(\n",
        "      next_char, states=states)\n",
        "  result.append(next_char)\n",
        "\n",
        "result = tf.strings.join(result)\n",
        "end = time.time()\n",
        "print(result[0].numpy().decode('utf-8'), '\\n\\n' + '_'*80)\n",
        "print('\\nRun time:', end - start)\n"
      ]
    },
    {
      "cell_type": "code",
      "execution_count": null,
      "metadata": {
        "id": "6setq9wXVtb9",
        "outputId": "b193a0df-17ea-4769-8747-e3f6969ab665"
      },
      "outputs": [
        {
          "name": "stdout",
          "output_type": "stream",
          "text": [
            "WARNING:tensorflow:Skipping full serialization of Keras layer <__main__.OneStep object at 0x0000027D1BDA0488>, because it is not built.\n"
          ]
        },
        {
          "name": "stderr",
          "output_type": "stream",
          "text": [
            "WARNING:tensorflow:Skipping full serialization of Keras layer <__main__.OneStep object at 0x0000027D1BDA0488>, because it is not built.\n",
            "WARNING:absl:Found untraced functions such as gru_cell_62_layer_call_fn, gru_cell_62_layer_call_and_return_conditional_losses, gru_cell_62_layer_call_fn, gru_cell_62_layer_call_and_return_conditional_losses, gru_cell_62_layer_call_and_return_conditional_losses while saving (showing 5 of 5). These functions will not be directly callable after loading.\n"
          ]
        },
        {
          "name": "stdout",
          "output_type": "stream",
          "text": [
            "INFO:tensorflow:Assets written to: one_step\\assets\n"
          ]
        },
        {
          "name": "stderr",
          "output_type": "stream",
          "text": [
            "INFO:tensorflow:Assets written to: one_step\\assets\n"
          ]
        }
      ],
      "source": [
        "tf.saved_model.save(one_step_model, 'one_step')\n",
        "one_step_reloaded = tf.saved_model.load('one_step')"
      ]
    },
    {
      "cell_type": "code",
      "execution_count": null,
      "metadata": {
        "id": "DJEOvIrTVtb9",
        "outputId": "86ee307a-f957-40f6-b9e9-2e87aeca3343"
      },
      "outputs": [
        {
          "name": "stdout",
          "output_type": "stream",
          "text": [
            " Abt. 2 Satz 1 +++)\n",
            ":a+kt der Dritten in durch § 1310 Abs. 2 Satz 2, wenn sie dem Anfang der Hypothek, eine Weise als mit dem Monat sowohl der Eigentuemer das Vermoegen uebernames Teilhabers abhaengt. Der Markei, so kann er nur unter den Erben oder eines Mangelhafter Ersicherung einer Vormunks, die den Vertragschliessenden oder des Mietverhaeltnisses zwischen der zweiter Dritter insoweit\n",
            "(1) Wei einem eigenheit eine notarielle fuer die Lieferung einer Hyyothek, die zuzuegel hierung untirure, wilde gilt die Vorschrift des § 1378 Abs. 1 hinverlassenen Unterventsprich. Der Kuendigungspreis sechs Monate und ueber die Ehegatten anzubichen, es sei denn, dass, nach der Reiseveranstalter nach solchen dem in der Regel vorbiegen. Das Gesamtgut gekoendig anerklaeren, es sei denn, dass er zur Leistung bewinnt oder in den Faellen des § 144 entsprechende Anwendung, wenn die Fehlerhaftigkeit nicht vorziehen, gissanspauchsichtigt. Ist die Auflage sowie leendente kann nicht flei von Umpauf-Vollsichtlichkeit bewirkt werden.\n",
            "(3) Die §§ 401 bis 505 entsprechende Anwendung.\n",
            "(3) Ist zur Erfuellung einer Aufhebung des Falles den Vorschriften des § 169 kann durch Testament gehoert.\n",
            "\n",
            "§ 29 Aufloesungsrecht\n",
            "Die Ansprueche des Glaeubigers mit seinem Recht zu verlangen, ohne dass in der vorliengiger Grund vorliegt.\n",
            "(3) Die Aufforderung erlassen hat. Dem Erben auf sein Pachtvertrag kann der mithaptlaeselt nicht beruehrt.\n",
            "\n",
            "§§ 242, 777 Abs. 5 Abwikkung\n",
            "1.\n",
            "fuer die Seite bestellt werden; die Vorschrift des § 246 Abs. 2 Schwaerze erfolgen, wenn ein ihm ein anderer Reiseveranstalter gekannt hat; Umfang der gemeinsamen Nachlass jand\n",
            "2.\n",
            "kuendigend verantwortlich oder, Soweit nicht nach Absatz 1 oder § 1220 zulaessige Inhaberpapiere zu der Zahlung die Versuchernehmer und eines waehrend des Inzenomtungsperten verpflichten. Der Schaden nicht unerlauben werden, dass er ueber die Sondernachfolger tritt nicht, wenn die Zuwendung geeignetes vorziehen ist ein Schwangerschaft oder der Todeszeit benannten Nachlass allein zu tragen.\n",
            "(2) Die Bestellung schuldig gemacht oder dem durch den Zahlungsdienstnutzer in einem Betreuungsverein\n",
            "Nach von Landgare mit dem Tod des § 111 Abs. 2 und des § 716 Sinder auf die uebertragung von 39 Jahren und andere Kolgrente zu sein, erbraucherdarlehen zumitte; Drehmpentfaellige Sicherheit nach den fuer den Auftraggeben seiner Wahl von spaeternehmer. Hind nicht mitgilien, wie dem anderen Feststellung entsprechenden Kreditinstitut freiheitzeit bleibt der Beschluss auf ein solches Rechtsgeschaeft, das ein Brueher eines Gesamtschuldner und den Antrag zur Heblann eines anderen Grundstueck, kann ein Recht an einer solchen Verblaucher gemeinschaftlicher Form wird der Widerruf des Vormunds kann die Herstellung des Entlachers und fuer die Rechte und Begangelegerung befriedigt wird, sind nicht nach den Vorschriften ueber die Verjaehrung geltenden Vorschriften ueber die Gessarlatiften Erfolg nur besonderen Minderjeit zu informieren. Der besittert oder einen jewordenklief, eine den uebrigen gesetzlichen Vertreter zu erfuellen, der von einer Wertverlust desjenigen Ehenamen keinen Stuefuegenohmenen vornehmen und eine ueberschuss ist zu ergnetes oder einer seiner Veruebung der Ausuebung des zur Anwendung auf die Einraeumung darf 6Ventrag ein, soweit er fuer den Reiseveranstalter erforderlich; Bestimmungen buengen, die im Zusammenhang unwirksam.\n",
            "(T) ueber den Geburtsnamen seines Gesimms § 177l Absatz 1 Nummer 4 vor den Abschluss des Vertrags kann nach Massgahl dem Empfang der Vertragsschluss ohne eine andere als solche koennen die beumuscht, seiner Widerruf fuer den Pflichtteil erstreckt sich die Voraussetzungen des § 655 Absatz 4 erforderlichen. Der Ehegatte kann ein oder mehr als 24 Jugewohen oder den ihm nach den fuer die Verpfaendung (Vereinschaftlichen Hinborhaft.\n",
            "\n",
            "§ 1398 Einwendungen durch den Gegenvormunds\n",
            "Ist der Darlehensnehmer spaetestens bis zum Berichtigung von Dritten\n",
            "bie Anziehung der Renterheit weiterer Erklaerungen auf Erbver-ach verlangt und ergeben.\n",
            "\n",
            "§ 92 Reiseveranstalter Hypothek;\n",
            "1.\n",
            "Bei der Eheschliessung des Vereinsschaebenen ausdaukt, den eine wesentliche Erblasser den Zahlungsdienstnutzer mit einem anderen angemessener Haftung nicht zur Herstellung verweigern, ist eines anderen laufenden Zusetzen oder ueber den Ehegatten gemeinschaftlich; oder mit denen es gereichenden Rechtsverhaeltnis sich ein anderes Grodde bei Zuvenbhinden sich der Abzuz und den Verarbeitung oder einem Zahlungsvorgang beseitigen, zu dessen Gunsten der aenderung und die Guett anzunehmen, dass das Vermoegen nicht anzuwaechende Versicherung) andere Therauferen Bestimmungen entsprechende Anwendung.\n",
            "\n",
            "§ 1986 Muendliche Sorge\n",
            "Die Vorschrift des § 1979 findet entsprechende Anwendung.\n",
            "\n",
            "§ 1253 Nachlassvargeleht,\n",
            "es einen sich aus der Verordnung unter der Buergenfeldernde oder eine von einer Leistung verursacht hal.\n",
            "(2) Das Kind die Eltern es einen Vormund zu erfuellen sind, kann der Besteller geregelt werden, nachdem er sich gegenueber dem Besteller eine verspaetete Hypotheken oder einer Verfuegung mit Kuendigungsrecht des Betreuers geltenden Vorschriften gelten auch fuer eine von der Vereinbarung (Glassel oder aenderung des gezeugten Betreuten hinserheibt, dass er das Vereinsregister fuehrt. Wasenter seinen Hebunwaehoeren anzunehmen, dass er duerfen nicht berechnen.\n",
            "\n",
            "§ 693 Kwerde von auf Zu bindenn\n",
            "(1) Faellt dies richter die Berechnung des Anteils an den Unternehmer nach Absatz 1 Nummer 3 fillen entsprechende Anwendung, soweit nicht ein Widerspruch gegen den anderen als der in § 207 keitraues auch, was der Verfussen der folgenden Vorschriften koein im Verkauf erlangt. Teir Anspruch auf Seim verurteilt, so kann er die Aufforderung eines die siedenwegen des Werkes zu ersetzen. Venner vertretbare Maengel dem Nachlassgericht. Die Erklaerung erfolgt, wer die Verwandte des Beauftragten oder eines Paeifnehnung einzustehen, bereichert, so bedarf es der Zahlungsvorgang ausschliesslich der Erbschaft allein:\n",
            "Wird\n",
            "Die Anfechtung der Annahme rindes.\n",
            "(4) Das Gleiche gilt fuer die Nutzungen des Monatsbesammenden Entrichtung der Scholdes von Schoden den Glaeubiger.\n",
            "\n",
            "§ 1363 Ablehnung des Bundesrnannpermoegens\n",
            "Ist eine Gesellschaft koennen ist, juehren das Vermaechtnis oder einer sonstigen Lebenspartners gegen den Veraeusserer ist, so gelten die §§ 6afulverzleistungen anzunehmen, dass ein anderer zum Kfandes innerhalb eines Jahres nach dem Ende des Rechtsgeschaefts nicht anzuwenden.\n",
            "\n",
            "§ 575d Herausgabepflicht\n",
            "(1) Verzichtet dem Glaeubiger enthaelt, deu der Ehegatten ist oder in anzeig.\n",
            "Teteitig vor der Aufhebung der Ehe zu vertretenden Verwahrer ist in Ansehung dieser Vorschrift nach § 269 Absatz 1 und 2 gilt entsprechend.\n",
            "(4) Eine aerztliche Eingriff durchgefuehrt werden, wenn und solange die Erblasser kann nur bis zum bestelen unberuecksichtigung von Satz 3 eingetreten, die zur Hauter den Bedingungen z 1 Absatz 2) 6 und 4 bezeichneten Kosten abzugeben.\n",
            "(2) Die in Artikel 240 § 1 des Einfuehrungsgesetzes zum Buergerlichen Aufwendungen die erforderlichen Auftrag dem Vermutz bedarf der Vormund versprochen wird.\n",
            "(2) Das Faeivoeuer der Volljaehriger fruehestens verbfahren. Das Recht des Mieters fehnt und bei jaehigan des Gueterstands.\n",
            "(4) Das Vermoegen ist das zwei aufeinander zu gewaehren, es sei denn, dass er durch seine Familienangehoerigen sein ueberschust ueber. Die Inhalte der Bedingung eines Gesamtglaeubigers durch den Verbraucher unverzueglich anzuzeigen.\n",
            "(haert, das nachdem er die Strafe fuer eine fuer tot ohne die vorteilig, wenn sie ohne die geliefert, so kann der Testamentsvollstrecker die Eltern laesst fuer den Bezirune Hagen.\n",
            "\n",
            "§ 2997 Unterhaltsansprueche das Gesellschaftsvorgaenger\n",
            "\n",
            "§ 425 Pruefung des Ehegatten\n",
            "(1) Hehrere Sterbefoehungen nach Bauvertrag\n",
            "(1) Zusemzt sie nach der Beschaffenheit ueber die Miete oder die Erbschaft anzuzengen.\n",
            "(2) Von §§ 194, 17 Abs. 1, §§ 207 bis 207, abweichende Reucher solls gilt, wenn er den besitzbwidrichktinden sich der Bestimmung eines Anlagen getrennt lebenden Nuchern der Schenker gemachten Feststellung in der bestimmten Zeit Entgeht. (15 Ende ein Mangel infolge eines Dritten belastet,\n",
            "6.\n",
            "eine Vermoegensleger kann den Fall eingesetzt, wie ist der Annehmende die geleistet, es sei denn, die uebergabe einer allgemeinen Schuld oder auf Gegenverfung geschlossen hat, wenn er in Textform eine angelegt, eine Verjaehrungsfrist kuendigen. Soweit es nicht verteilt.\n",
            "(2) Die Genehmigung kann nur in Kenntnis in Kenntnis oder gilt im Vertrag entsprechend Anstrumenten eines Gesamthoenssenheit in das Fruechten verschafft und das Verfahren ein betriff des Muendels von Ehegatten dieses Unterhalts) er berechtigt, die Beamterauszahebvorbehisfer ein Rundesgast in jedem Moempertreiert sein soll, ein Sicherungshrenziert das Interesse des Verletzten gehoeren.\n",
            "(2) Der Unternehmer hat den Dienst oder den geschuldete Fuehrung eines der ihrer Berichtung geboten, so kann die fuer den Auftrag geltenden Vorschriften ausser Betracht, so kann der Eigentuemer koennen durch persoenlichkeit des Einlobers erschwert ist.\n",
            "\n",
            "§ 636 Sicherungivererken- Antersitztsucher\n",
            "(1) In den Leistung anforder ist und den er von dem Verein geschlossen, dass er bei verschiedenen Hfengt.\n",
            "\n",
            "§ 261 Verbrauchsgueterkaufpwunderke\n",
            "Hebortnes ersetzt werden. Kuendigt der Glaeubiger die Aufhebung der Fustizlosse nur dann geschaftet sein eigene Pflege oder von Koerperschaften unverzueglich nach § 1949 entsprechende Anwendung.\n",
            "\n",
            "§ 315 Rentenichtinko\n",
            "(1) Der Mieter ist zur muessen verursacht haben, nur dann einen Tod eines der Miet- oder Gestallt sind.\n",
            "(6) Eine zum Nachteil des Mieters abweichende Vereinbarung ist diejenigen gleichfall. In den Tabihanderen Vermoegen feklange und ihm spfotte\n",
            "(1) Was sechs Monaten.\n",
            "(2) Das Pfand vorliegt, bei der Angaben nach anerkannten wesentlichen Buerscheiden, in dem die erporderlichen Kuendigung ausgeschlossen, wenn der Dienstberechtigte von dem Erblasser nur mit Bundesmoenstigen Abkoemmlin\n"
          ]
        }
      ],
      "source": [
        "states = None\n",
        "next_char = tf.constant([' '])\n",
        "result = [next_char]\n",
        "\n",
        "for n in range(10000):\n",
        "  next_char, states = one_step_reloaded.generate_one_step(\n",
        "      next_char, states=states)\n",
        "  result.append(next_char)\n",
        "\n",
        "print(tf.strings.join(result)[0].numpy().decode(\"utf-8\"))\n"
      ]
    }
  ],
  "metadata": {
    "colab": {
      "provenance": []
    },
    "interpreter": {
      "hash": "bfa69aadc8bd388467703aaf44151a9211fe6f35a2058613865535f18fdcd8b1"
    },
    "kernelspec": {
      "display_name": "Python 3.7.9 64-bit",
      "language": "python",
      "name": "python3"
    },
    "language_info": {
      "codemirror_mode": {
        "name": "ipython",
        "version": 3
      },
      "file_extension": ".py",
      "mimetype": "text/x-python",
      "name": "python",
      "nbconvert_exporter": "python",
      "pygments_lexer": "ipython3",
      "version": "3.7.9"
    },
    "orig_nbformat": 4
  },
  "nbformat": 4,
  "nbformat_minor": 0
}
