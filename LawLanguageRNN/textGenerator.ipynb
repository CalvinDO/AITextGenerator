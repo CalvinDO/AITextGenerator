{
 "cells": [
  {
   "cell_type": "code",
   "execution_count": 1,
   "metadata": {},
   "outputs": [],
   "source": [
    "import tensorflow as tf\n",
    "\n",
    "import numpy as np\n",
    "import os\n",
    "import time\n"
   ]
  },
  {
   "cell_type": "code",
   "execution_count": 2,
   "metadata": {},
   "outputs": [
    {
     "name": "stdout",
     "output_type": "stream",
     "text": [
      "Length of text: 1525970 characters\n",
      "Buch 1\n",
      "Allgemeiner Teil\n",
      "Abschnitt 1\n",
      "Personen\n",
      "Titel 1\n",
      "Natuerliche Personen, Verbraucher, Unternehmer\n",
      "\n",
      "§ 1 Beginn der Rechtsfaehigkeit\n",
      "Die Rechtsfaehigkeit des Menschen beginnt mit der Vollendung der Geburt.\n",
      "\n",
      "§ 2 Eintritt der Volljaehrigkeit\n",
      "75 unique characters\n",
      "['\\n', '\\r', ' ', '\"', '(', ')', '*', '+', ',', '-', '.', '/', '0', '1', '2', '3', '4', '5', '6', '7', '8', '9', ':', ';', 'A', 'B', 'C', 'D', 'E', 'F', 'G', 'H', 'I', 'J', 'K', 'L', 'M', 'N', 'O', 'P', 'Q', 'R', 'S', 'T', 'U', 'V', 'W', 'Z', 'a', 'b', 'c', 'd', 'e', 'f', 'g', 'h', 'i', 'j', 'k', 'l', 'm', 'n', 'o', 'p', 'q', 'r', 's', 't', 'u', 'v', 'w', 'x', 'y', 'z', '§']\n"
     ]
    }
   ],
   "source": [
    "import urllib.request\n",
    "\n",
    "url = \"https://raw.githubusercontent.com/CalvinDO/AITextGenerator/main/LawLanguageRNN/dataText.txt\"\n",
    "response = urllib.request.urlopen(url)\n",
    "text = response.read().decode(encoding='utf-8')\n",
    "\n",
    "# Take a look at the first 250 characters in text\n",
    "print(text[:250])\n",
    "\n",
    "\n",
    "# The unique characters in the file\n",
    "vocab = sorted(set(text))\n",
    "print(f'{len(vocab)} unique characters')\n",
    "print(vocab)\n"
   ]
  },
  {
   "cell_type": "code",
   "execution_count": 32,
   "metadata": {},
   "outputs": [
    {
     "name": "stdout",
     "output_type": "stream",
     "text": [
      "B\n",
      "u\n",
      "c\n",
      "h\n",
      " \n",
      "1\n",
      "\n",
      "\n",
      "\n",
      "A\n",
      "l\n",
      "tf.Tensor(\n",
      "[b'B' b'u' b'c' b'h' b' ' b'1' b'\\r' b'\\n' b'A' b'l' b'l' b'g' b'e' b'm'\n",
      " b'e' b'i' b'n' b'e' b'r' b' ' b'T' b'e' b'i' b'l' b'\\r' b'\\n' b'A' b'b'\n",
      " b's' b'c' b'h' b'n' b'i' b't' b't' b' ' b'1' b'\\r' b'\\n' b'P' b'e' b'r'\n",
      " b's' b'o' b'n' b'e' b'n' b'\\r' b'\\n' b'T' b'i' b't' b'e' b'l' b' ' b'1'\n",
      " b'\\r' b'\\n' b'N' b'a' b't' b'u' b'e' b'r' b'l' b'i' b'c' b'h' b'e' b' '\n",
      " b'P' b'e' b'r' b's' b'o' b'n' b'e' b'n' b',' b' ' b'V' b'e' b'r' b'b'\n",
      " b'r' b'a' b'u' b'c' b'h' b'e' b'r' b',' b' ' b'U' b'n' b't' b'e' b'r'\n",
      " b'n' b'e' b'h'], shape=(101,), dtype=string)\n",
      "b'Buch 1\\r\\nAllgemeiner Teil\\r\\nAbschnitt 1\\r\\nPersonen\\r\\nTitel 1\\r\\nNatuerliche Personen, Verbraucher, Unterneh'\n",
      "b'mer\\r\\n\\r\\n\\xc2\\xa7 1 Beginn der Rechtsfaehigkeit\\r\\nDie Rechtsfaehigkeit des Menschen beginnt mit der Vollendung '\n",
      "b'der Geburt.\\r\\n\\r\\n\\xc2\\xa7 2 Eintritt der Volljaehrigkeit\\r\\nDie Volljaehrigkeit tritt mit der Vollendung des 18.'\n",
      "b' Lebensjahres ein.\\r\\n\\r\\n\\xc2\\xa7\\xc2\\xa7 3 bis 6 (weggefallen)\\r\\n\\r\\n\\xc2\\xa7 7 Wohnsitz; Begruendung und Aufhebung\\r\\n(1) Wer si'\n",
      "b'ch an einem Orte staendig niederlaesst, begruendet an diesem Ort seinen Wohnsitz.\\r\\n(2) Der Wohnsitz k'\n"
     ]
    }
   ],
   "source": [
    "example_texts = ['abcdefg', 'xyz']\n",
    "\n",
    "chars = tf.strings.unicode_split(example_texts, input_encoding='UTF-8')\n",
    "chars\n",
    "\n",
    "ids_from_chars = tf.keras.layers.StringLookup(\n",
    "    vocabulary=list(vocab), mask_token=None)\n",
    "\n",
    "ids = ids_from_chars(chars)\n",
    "ids\n",
    "\n",
    "\n",
    "chars_from_ids = tf.keras.layers.StringLookup(\n",
    "    vocabulary=ids_from_chars.get_vocabulary(), invert=True, mask_token=None)\n",
    "\n",
    "\n",
    "chars = chars_from_ids(ids)\n",
    "chars\n",
    "\n",
    "tf.strings.reduce_join(chars, axis=-1).numpy()\n",
    "\n",
    "\n",
    "def text_from_ids(ids):\n",
    "  return tf.strings.reduce_join(chars_from_ids(ids), axis=-1)\n",
    "\n",
    "\n",
    "all_ids = ids_from_chars(tf.strings.unicode_split(text, 'UTF-8'))\n",
    "all_ids\n",
    "\n",
    "\n",
    "ids_dataset = tf.data.Dataset.from_tensor_slices(all_ids)\n",
    "\n",
    "for ids in ids_dataset.take(10):\n",
    "    print(chars_from_ids(ids).numpy().decode('utf-8'))\n",
    "\n",
    "seq_length = 100\n",
    "examples_per_epoch = len(text)//(seq_length+1)\n",
    "\n",
    "sequences = ids_dataset.batch(seq_length+1, drop_remainder=True)\n",
    "\n",
    "for seq in sequences.take(1):\n",
    "  print(chars_from_ids(seq))\n",
    "\n",
    "for seq in sequences.take(5):\n",
    "    print(text_from_ids(seq).numpy())\n",
    "\n",
    "\n",
    "def split_input_target(sequence):\n",
    "    input_text = sequence[:-1]\n",
    "    target_text = sequence[1:]\n",
    "    return input_text, target_text\n"
   ]
  },
  {
   "cell_type": "code",
   "execution_count": 33,
   "metadata": {},
   "outputs": [
    {
     "name": "stdout",
     "output_type": "stream",
     "text": [
      "Input : b'Buch 1\\r\\nAllgemeiner Teil\\r\\nAbschnitt 1\\r\\nPersonen\\r\\nTitel 1\\r\\nNatuerliche Personen, Verbraucher, Unterne'\n",
      "Target: b'uch 1\\r\\nAllgemeiner Teil\\r\\nAbschnitt 1\\r\\nPersonen\\r\\nTitel 1\\r\\nNatuerliche Personen, Verbraucher, Unterneh'\n"
     ]
    },
    {
     "data": {
      "text/plain": [
       "<PrefetchDataset shapes: ((64, 100), (64, 100)), types: (tf.int64, tf.int64)>"
      ]
     },
     "execution_count": 33,
     "metadata": {},
     "output_type": "execute_result"
    }
   ],
   "source": [
    "def split_input_target(sequence):\n",
    "    input_text = sequence[:-1]\n",
    "    target_text = sequence[1:]\n",
    "    return input_text, target_text\n",
    "\n",
    "split_input_target(list(\"Tensorflow\"))\n",
    "\n",
    "dataset = sequences.map(split_input_target)\n",
    "\n",
    "for input_example, target_example in dataset.take(1):\n",
    "    print(\"Input :\", text_from_ids(input_example).numpy())\n",
    "    print(\"Target:\", text_from_ids(target_example).numpy())\n",
    "\n",
    "\n",
    "# Batch size\n",
    "BATCH_SIZE = 64\n",
    "\n",
    "# Buffer size to shuffle the dataset\n",
    "# (TF data is designed to work with possibly infinite sequences,\n",
    "# so it doesn't attempt to shuffle the entire sequence in memory. Instead,\n",
    "# it maintains a buffer in which it shuffles elements).\n",
    "BUFFER_SIZE = 10000\n",
    "\n",
    "dataset = (\n",
    "    dataset\n",
    "    .shuffle(BUFFER_SIZE)\n",
    "    .batch(BATCH_SIZE, drop_remainder=True)\n",
    "    .prefetch(tf.data.experimental.AUTOTUNE))\n",
    "\n",
    "dataset\n"
   ]
  },
  {
   "cell_type": "code",
   "execution_count": 34,
   "metadata": {},
   "outputs": [],
   "source": [
    "# Length of the vocabulary in chars\n",
    "vocab_size = len(vocab)\n",
    "# The embedding dimension\n",
    "embedding_dim = 256\n",
    "\n",
    "# Number of RNN units\n",
    "rnn_units = 1024\n"
   ]
  },
  {
   "cell_type": "code",
   "execution_count": 52,
   "metadata": {},
   "outputs": [
    {
     "name": "stdout",
     "output_type": "stream",
     "text": [
      "(64, 100, 76) # (batch_size, sequence_length, vocab_size)\n",
      "Model: \"my_model_3\"\n",
      "_________________________________________________________________\n",
      " Layer (type)                Output Shape              Param #   \n",
      "=================================================================\n",
      " embedding_3 (Embedding)     multiple                  19456     \n",
      "                                                                 \n",
      " gru_3 (GRU)                 multiple                  3938304   \n",
      "                                                                 \n",
      " dense_3 (Dense)             multiple                  77900     \n",
      "                                                                 \n",
      "=================================================================\n",
      "Total params: 4,035,660\n",
      "Trainable params: 4,035,660\n",
      "Non-trainable params: 0\n",
      "_________________________________________________________________\n"
     ]
    },
    {
     "data": {
      "text/plain": [
       "76.04339"
      ]
     },
     "execution_count": 52,
     "metadata": {},
     "output_type": "execute_result"
    }
   ],
   "source": [
    "class MyModel(tf.keras.Model):\n",
    "  def __init__(self, vocab_size, embedding_dim, rnn_units):\n",
    "    super().__init__()\n",
    "    self.embedding = tf.keras.layers.Embedding(vocab_size, embedding_dim)\n",
    "    self.gru = tf.keras.layers.GRU(rnn_units,\n",
    "                                   return_sequences=True,\n",
    "                                   return_state=True)\n",
    "    self.dense = tf.keras.layers.Dense(vocab_size)\n",
    "\n",
    "  def call(self, inputs, states=None, return_state=False, training=False):\n",
    "    x = inputs\n",
    "    \n",
    "    x = self.embedding(x, training=training)\n",
    "    #removed:\n",
    "    #if states is None:\n",
    "    #  states = self.gru.get_initial_state(x)\n",
    "    x, states = self.gru(x, initial_state=states, training=training)\n",
    "    x = self.dense(x, training=training)\n",
    "\n",
    "    if return_state:\n",
    "      return x, states\n",
    "    else:\n",
    "      return x\n",
    "\n",
    "\n",
    "model = MyModel(\n",
    "    # Be sure the vocabulary size matches the `StringLookup` layers.\n",
    "    vocab_size=len(ids_from_chars.get_vocabulary()),\n",
    "    embedding_dim=embedding_dim,\n",
    "    rnn_units=rnn_units,\n",
    ")\n",
    "\n",
    "\n",
    "for input_example_batch, target_example_batch in dataset.take(1):\n",
    "    example_batch_predictions = model(input_example_batch)\n",
    "    print(example_batch_predictions.shape,\n",
    "          \"# (batch_size, sequence_length, vocab_size)\")\n",
    "\n",
    "model.summary()\n",
    "\n",
    "\n",
    "sampled_indices = tf.random.categorical(\n",
    "    example_batch_predictions[0], num_samples=1)\n",
    "sampled_indices = tf.squeeze(sampled_indices, axis=-1).numpy()\n",
    "\n",
    "sampled_indices\n",
    "\n",
    "\n",
    "#print(\"Input:\\n\", text_from_ids(input_example_batch[0]).numpy())\n",
    "#print()\n",
    "#print(\"Next Char Predictions:\\n\", text_from_ids(sampled_indices).numpy())\n",
    "\n",
    "\n",
    "loss = tf.losses.SparseCategoricalCrossentropy(from_logits=True)\n",
    "\n",
    "example_batch_mean_loss = loss(target_example_batch, example_batch_predictions)\n",
    "#print(\"Prediction shape: \", example_batch_predictions.shape,\n",
    "#      \" # (batch_size, sequence_length, vocab_size)\")\n",
    "#print(\"Mean loss:        \", example_batch_mean_loss)\n",
    "\n",
    "tf.exp(example_batch_mean_loss).numpy()\n"
   ]
  },
  {
   "cell_type": "code",
   "execution_count": 55,
   "metadata": {},
   "outputs": [
    {
     "data": {
      "text/plain": [
       "<tensorflow.python.training.tracking.util.CheckpointLoadStatus at 0x1d4ca5f46c8>"
      ]
     },
     "execution_count": 55,
     "metadata": {},
     "output_type": "execute_result"
    }
   ],
   "source": [
    "# ONLY RUN WHEN LOADING A PRE-TRAINED MODEL\n",
    "checkpoint_path = \"./training_checkpoints/ckpt_100\"\n",
    "\n",
    "model.load_weights(checkpoint_path)\n"
   ]
  },
  {
   "cell_type": "code",
   "execution_count": 57,
   "metadata": {},
   "outputs": [],
   "source": [
    "model.compile(optimizer=tf.keras.optimizers.SGD(momentum=0.9),\n",
    "              metrics=['accuracy'], loss=loss)\n",
    "\n",
    "\n",
    "\n",
    "# Directory where the checkpoints will be saved\n",
    "checkpoint_dir = './training_checkpoints'\n",
    "# Name of the checkpoint files\n",
    "checkpoint_prefix = os.path.join(checkpoint_dir, \"ckpt_{epoch}.weights.h5\")\n",
    "\n",
    "checkpoint_callback = tf.keras.callbacks.ModelCheckpoint(\n",
    "    filepath=checkpoint_prefix,\n",
    "    save_weights_only=True)\n",
    "\n",
    "EPOCHS = 1"
   ]
  },
  {
   "cell_type": "code",
   "execution_count": null,
   "metadata": {},
   "outputs": [],
   "source": []
  },
  {
   "cell_type": "code",
   "execution_count": 59,
   "metadata": {},
   "outputs": [
    {
     "name": "stdout",
     "output_type": "stream",
     "text": [
      "166/236 [====================>.........] - ETA: 2:10 - loss: 0.3117 - accuracy: 0.9083"
     ]
    },
    {
     "ename": "KeyboardInterrupt",
     "evalue": "",
     "output_type": "error",
     "traceback": [
      "\u001b[1;31m---------------------------------------------------------------------------\u001b[0m",
      "\u001b[1;31mKeyboardInterrupt\u001b[0m                         Traceback (most recent call last)",
      "\u001b[1;32m~\\AppData\\Local\\Temp/ipykernel_4556/3521637298.py\u001b[0m in \u001b[0;36m<module>\u001b[1;34m\u001b[0m\n\u001b[1;32m----> 1\u001b[1;33m \u001b[0mhistory\u001b[0m \u001b[1;33m=\u001b[0m \u001b[0mmodel\u001b[0m\u001b[1;33m.\u001b[0m\u001b[0mfit\u001b[0m\u001b[1;33m(\u001b[0m\u001b[0mdataset\u001b[0m\u001b[1;33m,\u001b[0m \u001b[0mepochs\u001b[0m\u001b[1;33m=\u001b[0m\u001b[0mEPOCHS\u001b[0m\u001b[1;33m,\u001b[0m \u001b[0mcallbacks\u001b[0m\u001b[1;33m=\u001b[0m\u001b[1;33m[\u001b[0m\u001b[0mcheckpoint_callback\u001b[0m\u001b[1;33m]\u001b[0m\u001b[1;33m)\u001b[0m\u001b[1;33m\u001b[0m\u001b[1;33m\u001b[0m\u001b[0m\n\u001b[0m",
      "\u001b[1;32m~\\AppData\\Local\\Programs\\Python\\Python37\\lib\\site-packages\\keras\\utils\\traceback_utils.py\u001b[0m in \u001b[0;36merror_handler\u001b[1;34m(*args, **kwargs)\u001b[0m\n\u001b[0;32m     62\u001b[0m     \u001b[0mfiltered_tb\u001b[0m \u001b[1;33m=\u001b[0m \u001b[1;32mNone\u001b[0m\u001b[1;33m\u001b[0m\u001b[1;33m\u001b[0m\u001b[0m\n\u001b[0;32m     63\u001b[0m     \u001b[1;32mtry\u001b[0m\u001b[1;33m:\u001b[0m\u001b[1;33m\u001b[0m\u001b[1;33m\u001b[0m\u001b[0m\n\u001b[1;32m---> 64\u001b[1;33m       \u001b[1;32mreturn\u001b[0m \u001b[0mfn\u001b[0m\u001b[1;33m(\u001b[0m\u001b[1;33m*\u001b[0m\u001b[0margs\u001b[0m\u001b[1;33m,\u001b[0m \u001b[1;33m**\u001b[0m\u001b[0mkwargs\u001b[0m\u001b[1;33m)\u001b[0m\u001b[1;33m\u001b[0m\u001b[1;33m\u001b[0m\u001b[0m\n\u001b[0m\u001b[0;32m     65\u001b[0m     \u001b[1;32mexcept\u001b[0m \u001b[0mException\u001b[0m \u001b[1;32mas\u001b[0m \u001b[0me\u001b[0m\u001b[1;33m:\u001b[0m  \u001b[1;31m# pylint: disable=broad-except\u001b[0m\u001b[1;33m\u001b[0m\u001b[1;33m\u001b[0m\u001b[0m\n\u001b[0;32m     66\u001b[0m       \u001b[0mfiltered_tb\u001b[0m \u001b[1;33m=\u001b[0m \u001b[0m_process_traceback_frames\u001b[0m\u001b[1;33m(\u001b[0m\u001b[0me\u001b[0m\u001b[1;33m.\u001b[0m\u001b[0m__traceback__\u001b[0m\u001b[1;33m)\u001b[0m\u001b[1;33m\u001b[0m\u001b[1;33m\u001b[0m\u001b[0m\n",
      "\u001b[1;32m~\\AppData\\Local\\Programs\\Python\\Python37\\lib\\site-packages\\keras\\engine\\training.py\u001b[0m in \u001b[0;36mfit\u001b[1;34m(self, x, y, batch_size, epochs, verbose, callbacks, validation_split, validation_data, shuffle, class_weight, sample_weight, initial_epoch, steps_per_epoch, validation_steps, validation_batch_size, validation_freq, max_queue_size, workers, use_multiprocessing)\u001b[0m\n\u001b[0;32m   1214\u001b[0m                 _r=1):\n\u001b[0;32m   1215\u001b[0m               \u001b[0mcallbacks\u001b[0m\u001b[1;33m.\u001b[0m\u001b[0mon_train_batch_begin\u001b[0m\u001b[1;33m(\u001b[0m\u001b[0mstep\u001b[0m\u001b[1;33m)\u001b[0m\u001b[1;33m\u001b[0m\u001b[1;33m\u001b[0m\u001b[0m\n\u001b[1;32m-> 1216\u001b[1;33m               \u001b[0mtmp_logs\u001b[0m \u001b[1;33m=\u001b[0m \u001b[0mself\u001b[0m\u001b[1;33m.\u001b[0m\u001b[0mtrain_function\u001b[0m\u001b[1;33m(\u001b[0m\u001b[0miterator\u001b[0m\u001b[1;33m)\u001b[0m\u001b[1;33m\u001b[0m\u001b[1;33m\u001b[0m\u001b[0m\n\u001b[0m\u001b[0;32m   1217\u001b[0m               \u001b[1;32mif\u001b[0m \u001b[0mdata_handler\u001b[0m\u001b[1;33m.\u001b[0m\u001b[0mshould_sync\u001b[0m\u001b[1;33m:\u001b[0m\u001b[1;33m\u001b[0m\u001b[1;33m\u001b[0m\u001b[0m\n\u001b[0;32m   1218\u001b[0m                 \u001b[0mcontext\u001b[0m\u001b[1;33m.\u001b[0m\u001b[0masync_wait\u001b[0m\u001b[1;33m(\u001b[0m\u001b[1;33m)\u001b[0m\u001b[1;33m\u001b[0m\u001b[1;33m\u001b[0m\u001b[0m\n",
      "\u001b[1;32m~\\AppData\\Local\\Programs\\Python\\Python37\\lib\\site-packages\\tensorflow\\python\\util\\traceback_utils.py\u001b[0m in \u001b[0;36merror_handler\u001b[1;34m(*args, **kwargs)\u001b[0m\n\u001b[0;32m    148\u001b[0m     \u001b[0mfiltered_tb\u001b[0m \u001b[1;33m=\u001b[0m \u001b[1;32mNone\u001b[0m\u001b[1;33m\u001b[0m\u001b[1;33m\u001b[0m\u001b[0m\n\u001b[0;32m    149\u001b[0m     \u001b[1;32mtry\u001b[0m\u001b[1;33m:\u001b[0m\u001b[1;33m\u001b[0m\u001b[1;33m\u001b[0m\u001b[0m\n\u001b[1;32m--> 150\u001b[1;33m       \u001b[1;32mreturn\u001b[0m \u001b[0mfn\u001b[0m\u001b[1;33m(\u001b[0m\u001b[1;33m*\u001b[0m\u001b[0margs\u001b[0m\u001b[1;33m,\u001b[0m \u001b[1;33m**\u001b[0m\u001b[0mkwargs\u001b[0m\u001b[1;33m)\u001b[0m\u001b[1;33m\u001b[0m\u001b[1;33m\u001b[0m\u001b[0m\n\u001b[0m\u001b[0;32m    151\u001b[0m     \u001b[1;32mexcept\u001b[0m \u001b[0mException\u001b[0m \u001b[1;32mas\u001b[0m \u001b[0me\u001b[0m\u001b[1;33m:\u001b[0m\u001b[1;33m\u001b[0m\u001b[1;33m\u001b[0m\u001b[0m\n\u001b[0;32m    152\u001b[0m       \u001b[0mfiltered_tb\u001b[0m \u001b[1;33m=\u001b[0m \u001b[0m_process_traceback_frames\u001b[0m\u001b[1;33m(\u001b[0m\u001b[0me\u001b[0m\u001b[1;33m.\u001b[0m\u001b[0m__traceback__\u001b[0m\u001b[1;33m)\u001b[0m\u001b[1;33m\u001b[0m\u001b[1;33m\u001b[0m\u001b[0m\n",
      "\u001b[1;32m~\\AppData\\Local\\Programs\\Python\\Python37\\lib\\site-packages\\tensorflow\\python\\eager\\def_function.py\u001b[0m in \u001b[0;36m__call__\u001b[1;34m(self, *args, **kwds)\u001b[0m\n\u001b[0;32m    908\u001b[0m \u001b[1;33m\u001b[0m\u001b[0m\n\u001b[0;32m    909\u001b[0m       \u001b[1;32mwith\u001b[0m \u001b[0mOptionalXlaContext\u001b[0m\u001b[1;33m(\u001b[0m\u001b[0mself\u001b[0m\u001b[1;33m.\u001b[0m\u001b[0m_jit_compile\u001b[0m\u001b[1;33m)\u001b[0m\u001b[1;33m:\u001b[0m\u001b[1;33m\u001b[0m\u001b[1;33m\u001b[0m\u001b[0m\n\u001b[1;32m--> 910\u001b[1;33m         \u001b[0mresult\u001b[0m \u001b[1;33m=\u001b[0m \u001b[0mself\u001b[0m\u001b[1;33m.\u001b[0m\u001b[0m_call\u001b[0m\u001b[1;33m(\u001b[0m\u001b[1;33m*\u001b[0m\u001b[0margs\u001b[0m\u001b[1;33m,\u001b[0m \u001b[1;33m**\u001b[0m\u001b[0mkwds\u001b[0m\u001b[1;33m)\u001b[0m\u001b[1;33m\u001b[0m\u001b[1;33m\u001b[0m\u001b[0m\n\u001b[0m\u001b[0;32m    911\u001b[0m \u001b[1;33m\u001b[0m\u001b[0m\n\u001b[0;32m    912\u001b[0m       \u001b[0mnew_tracing_count\u001b[0m \u001b[1;33m=\u001b[0m \u001b[0mself\u001b[0m\u001b[1;33m.\u001b[0m\u001b[0mexperimental_get_tracing_count\u001b[0m\u001b[1;33m(\u001b[0m\u001b[1;33m)\u001b[0m\u001b[1;33m\u001b[0m\u001b[1;33m\u001b[0m\u001b[0m\n",
      "\u001b[1;32m~\\AppData\\Local\\Programs\\Python\\Python37\\lib\\site-packages\\tensorflow\\python\\eager\\def_function.py\u001b[0m in \u001b[0;36m_call\u001b[1;34m(self, *args, **kwds)\u001b[0m\n\u001b[0;32m    940\u001b[0m       \u001b[1;31m# In this case we have created variables on the first call, so we run the\u001b[0m\u001b[1;33m\u001b[0m\u001b[1;33m\u001b[0m\u001b[1;33m\u001b[0m\u001b[0m\n\u001b[0;32m    941\u001b[0m       \u001b[1;31m# defunned version which is guaranteed to never create variables.\u001b[0m\u001b[1;33m\u001b[0m\u001b[1;33m\u001b[0m\u001b[1;33m\u001b[0m\u001b[0m\n\u001b[1;32m--> 942\u001b[1;33m       \u001b[1;32mreturn\u001b[0m \u001b[0mself\u001b[0m\u001b[1;33m.\u001b[0m\u001b[0m_stateless_fn\u001b[0m\u001b[1;33m(\u001b[0m\u001b[1;33m*\u001b[0m\u001b[0margs\u001b[0m\u001b[1;33m,\u001b[0m \u001b[1;33m**\u001b[0m\u001b[0mkwds\u001b[0m\u001b[1;33m)\u001b[0m  \u001b[1;31m# pylint: disable=not-callable\u001b[0m\u001b[1;33m\u001b[0m\u001b[1;33m\u001b[0m\u001b[0m\n\u001b[0m\u001b[0;32m    943\u001b[0m     \u001b[1;32melif\u001b[0m \u001b[0mself\u001b[0m\u001b[1;33m.\u001b[0m\u001b[0m_stateful_fn\u001b[0m \u001b[1;32mis\u001b[0m \u001b[1;32mnot\u001b[0m \u001b[1;32mNone\u001b[0m\u001b[1;33m:\u001b[0m\u001b[1;33m\u001b[0m\u001b[1;33m\u001b[0m\u001b[0m\n\u001b[0;32m    944\u001b[0m       \u001b[1;31m# Release the lock early so that multiple threads can perform the call\u001b[0m\u001b[1;33m\u001b[0m\u001b[1;33m\u001b[0m\u001b[1;33m\u001b[0m\u001b[0m\n",
      "\u001b[1;32m~\\AppData\\Local\\Programs\\Python\\Python37\\lib\\site-packages\\tensorflow\\python\\eager\\function.py\u001b[0m in \u001b[0;36m__call__\u001b[1;34m(self, *args, **kwargs)\u001b[0m\n\u001b[0;32m   3129\u001b[0m        filtered_flat_args) = self._maybe_define_function(args, kwargs)\n\u001b[0;32m   3130\u001b[0m     return graph_function._call_flat(\n\u001b[1;32m-> 3131\u001b[1;33m         filtered_flat_args, captured_inputs=graph_function.captured_inputs)  # pylint: disable=protected-access\n\u001b[0m\u001b[0;32m   3132\u001b[0m \u001b[1;33m\u001b[0m\u001b[0m\n\u001b[0;32m   3133\u001b[0m   \u001b[1;33m@\u001b[0m\u001b[0mproperty\u001b[0m\u001b[1;33m\u001b[0m\u001b[1;33m\u001b[0m\u001b[0m\n",
      "\u001b[1;32m~\\AppData\\Local\\Programs\\Python\\Python37\\lib\\site-packages\\tensorflow\\python\\eager\\function.py\u001b[0m in \u001b[0;36m_call_flat\u001b[1;34m(self, args, captured_inputs, cancellation_manager)\u001b[0m\n\u001b[0;32m   1958\u001b[0m       \u001b[1;31m# No tape is watching; skip to running the function.\u001b[0m\u001b[1;33m\u001b[0m\u001b[1;33m\u001b[0m\u001b[1;33m\u001b[0m\u001b[0m\n\u001b[0;32m   1959\u001b[0m       return self._build_call_outputs(self._inference_function.call(\n\u001b[1;32m-> 1960\u001b[1;33m           ctx, args, cancellation_manager=cancellation_manager))\n\u001b[0m\u001b[0;32m   1961\u001b[0m     forward_backward = self._select_forward_and_backward_functions(\n\u001b[0;32m   1962\u001b[0m         \u001b[0margs\u001b[0m\u001b[1;33m,\u001b[0m\u001b[1;33m\u001b[0m\u001b[1;33m\u001b[0m\u001b[0m\n",
      "\u001b[1;32m~\\AppData\\Local\\Programs\\Python\\Python37\\lib\\site-packages\\tensorflow\\python\\eager\\function.py\u001b[0m in \u001b[0;36mcall\u001b[1;34m(self, ctx, args, cancellation_manager)\u001b[0m\n\u001b[0;32m    601\u001b[0m               \u001b[0minputs\u001b[0m\u001b[1;33m=\u001b[0m\u001b[0margs\u001b[0m\u001b[1;33m,\u001b[0m\u001b[1;33m\u001b[0m\u001b[1;33m\u001b[0m\u001b[0m\n\u001b[0;32m    602\u001b[0m               \u001b[0mattrs\u001b[0m\u001b[1;33m=\u001b[0m\u001b[0mattrs\u001b[0m\u001b[1;33m,\u001b[0m\u001b[1;33m\u001b[0m\u001b[1;33m\u001b[0m\u001b[0m\n\u001b[1;32m--> 603\u001b[1;33m               ctx=ctx)\n\u001b[0m\u001b[0;32m    604\u001b[0m         \u001b[1;32melse\u001b[0m\u001b[1;33m:\u001b[0m\u001b[1;33m\u001b[0m\u001b[1;33m\u001b[0m\u001b[0m\n\u001b[0;32m    605\u001b[0m           outputs = execute.execute_with_cancellation(\n",
      "\u001b[1;32m~\\AppData\\Local\\Programs\\Python\\Python37\\lib\\site-packages\\tensorflow\\python\\eager\\execute.py\u001b[0m in \u001b[0;36mquick_execute\u001b[1;34m(op_name, num_outputs, inputs, attrs, ctx, name)\u001b[0m\n\u001b[0;32m     57\u001b[0m     \u001b[0mctx\u001b[0m\u001b[1;33m.\u001b[0m\u001b[0mensure_initialized\u001b[0m\u001b[1;33m(\u001b[0m\u001b[1;33m)\u001b[0m\u001b[1;33m\u001b[0m\u001b[1;33m\u001b[0m\u001b[0m\n\u001b[0;32m     58\u001b[0m     tensors = pywrap_tfe.TFE_Py_Execute(ctx._handle, device_name, op_name,\n\u001b[1;32m---> 59\u001b[1;33m                                         inputs, attrs, num_outputs)\n\u001b[0m\u001b[0;32m     60\u001b[0m   \u001b[1;32mexcept\u001b[0m \u001b[0mcore\u001b[0m\u001b[1;33m.\u001b[0m\u001b[0m_NotOkStatusException\u001b[0m \u001b[1;32mas\u001b[0m \u001b[0me\u001b[0m\u001b[1;33m:\u001b[0m\u001b[1;33m\u001b[0m\u001b[1;33m\u001b[0m\u001b[0m\n\u001b[0;32m     61\u001b[0m     \u001b[1;32mif\u001b[0m \u001b[0mname\u001b[0m \u001b[1;32mis\u001b[0m \u001b[1;32mnot\u001b[0m \u001b[1;32mNone\u001b[0m\u001b[1;33m:\u001b[0m\u001b[1;33m\u001b[0m\u001b[1;33m\u001b[0m\u001b[0m\n",
      "\u001b[1;31mKeyboardInterrupt\u001b[0m: "
     ]
    }
   ],
   "source": [
    "history = model.fit(dataset, epochs=EPOCHS, callbacks=[checkpoint_callback])"
   ]
  },
  {
   "cell_type": "code",
   "execution_count": 43,
   "metadata": {},
   "outputs": [
    {
     "ename": "NameError",
     "evalue": "name 'history' is not defined",
     "output_type": "error",
     "traceback": [
      "\u001b[1;31m---------------------------------------------------------------------------\u001b[0m",
      "\u001b[1;31mNameError\u001b[0m                                 Traceback (most recent call last)",
      "\u001b[1;32m~\\AppData\\Local\\Temp/ipykernel_4556/3372631024.py\u001b[0m in \u001b[0;36m<module>\u001b[1;34m\u001b[0m\n\u001b[0;32m      1\u001b[0m \u001b[1;32mimport\u001b[0m \u001b[0mmatplotlib\u001b[0m\u001b[1;33m.\u001b[0m\u001b[0mpyplot\u001b[0m \u001b[1;32mas\u001b[0m \u001b[0mplt\u001b[0m\u001b[1;33m\u001b[0m\u001b[1;33m\u001b[0m\u001b[0m\n\u001b[0;32m      2\u001b[0m \u001b[1;33m\u001b[0m\u001b[0m\n\u001b[1;32m----> 3\u001b[1;33m \u001b[0mplt\u001b[0m\u001b[1;33m.\u001b[0m\u001b[0mplot\u001b[0m\u001b[1;33m(\u001b[0m\u001b[0mhistory\u001b[0m\u001b[1;33m.\u001b[0m\u001b[0mhistory\u001b[0m\u001b[1;33m[\u001b[0m\u001b[1;34m'accuracy'\u001b[0m\u001b[1;33m]\u001b[0m\u001b[1;33m,\u001b[0m \u001b[0mlabel\u001b[0m\u001b[1;33m=\u001b[0m\u001b[1;34m'accuracy'\u001b[0m\u001b[1;33m)\u001b[0m\u001b[1;33m\u001b[0m\u001b[1;33m\u001b[0m\u001b[0m\n\u001b[0m\u001b[0;32m      4\u001b[0m \u001b[0mplt\u001b[0m\u001b[1;33m.\u001b[0m\u001b[0mxlabel\u001b[0m\u001b[1;33m(\u001b[0m\u001b[1;34m'Epoch'\u001b[0m\u001b[1;33m)\u001b[0m\u001b[1;33m\u001b[0m\u001b[1;33m\u001b[0m\u001b[0m\n\u001b[0;32m      5\u001b[0m \u001b[0mplt\u001b[0m\u001b[1;33m.\u001b[0m\u001b[0mylabel\u001b[0m\u001b[1;33m(\u001b[0m\u001b[1;34m'Accuracy'\u001b[0m\u001b[1;33m)\u001b[0m\u001b[1;33m\u001b[0m\u001b[1;33m\u001b[0m\u001b[0m\n",
      "\u001b[1;31mNameError\u001b[0m: name 'history' is not defined"
     ]
    }
   ],
   "source": [
    "import matplotlib.pyplot as plt\n",
    "\n",
    "plt.plot(history.history['accuracy'], label='accuracy')\n",
    "plt.xlabel('Epoch')\n",
    "plt.ylabel('Accuracy')\n",
    "plt.ylim([0.75, 0.9])\n",
    "plt.legend(loc='lower right')\n"
   ]
  },
  {
   "cell_type": "code",
   "execution_count": 50,
   "metadata": {},
   "outputs": [],
   "source": [
    "class OneStep(tf.keras.Model):\n",
    "  def __init__(self, model, chars_from_ids, ids_from_chars, temperature=1.0):\n",
    "    super().__init__()\n",
    "    self.temperature = temperature\n",
    "    self.model = model\n",
    "    self.chars_from_ids = chars_from_ids\n",
    "    self.ids_from_chars = ids_from_chars\n",
    "\n",
    "    # Create a mask to prevent \"[UNK]\" from being generated.\n",
    "    skip_ids = self.ids_from_chars(['[UNK]'])[:, None]\n",
    "    sparse_mask = tf.SparseTensor(\n",
    "        # Put a -inf at each bad index.\n",
    "        values=[-float('inf')]*len(skip_ids),\n",
    "        indices=skip_ids,\n",
    "        # Match the shape to the vocabulary\n",
    "        dense_shape=[len(ids_from_chars.get_vocabulary())])\n",
    "    self.prediction_mask = tf.sparse.to_dense(sparse_mask)\n",
    "\n",
    "  @tf.function\n",
    "  def generate_one_step(self, inputs, states=None):\n",
    "    # Convert strings to token IDs.\n",
    "    input_chars = tf.strings.unicode_split(inputs, 'UTF-8')\n",
    "    input_ids = self.ids_from_chars(input_chars).to_tensor()\n",
    "\n",
    "    # Run the model.\n",
    "    # predicted_logits.shape is [batch, char, next_char_logits]\n",
    "    predicted_logits, states = self.model(inputs=input_ids, states=states,\n",
    "                                          return_state=True)\n",
    "    # Only use the last prediction.\n",
    "    predicted_logits = predicted_logits[:, -1, :]\n",
    "    predicted_logits = predicted_logits/self.temperature\n",
    "    # Apply the prediction mask: prevent \"[UNK]\" from being generated.\n",
    "    predicted_logits = predicted_logits + self.prediction_mask\n",
    "\n",
    "    # Sample the output logits to generate token IDs.\n",
    "    predicted_ids = tf.random.categorical(predicted_logits, num_samples=1)\n",
    "    predicted_ids = tf.squeeze(predicted_ids, axis=-1)\n",
    "\n",
    "    # Convert from token ids to characters\n",
    "    predicted_chars = self.chars_from_ids(predicted_ids)\n",
    "\n",
    "    # Return the characters and model state.\n",
    "    return predicted_chars, states\n",
    "\n",
    "\n",
    "\n"
   ]
  },
  {
   "cell_type": "code",
   "execution_count": 51,
   "metadata": {},
   "outputs": [
    {
     "name": "stdout",
     "output_type": "stream",
     "text": [
      " Anspruch auf den Eigentuemer zwischen Leistung abweichend von Absatz 1 Nr. 3 kredn Gellen unmilvergang des Darlehens sind dem Erben als 5 uewertet und erste Bauschsystetvot, wenn dies im Zweifel als auf den Ersatz der Sache geltend zu machen.\n",
      "Die spaeilierrerichen).\n",
      "\n",
      "§ 1224 \n",
      "(weggefallen)\n",
      "\n",
      "§ 266H Pfandrechte\n",
      "\n",
      "§ 1637 Gesamtwordungsbereich das Vorliegen\n",
      "\n",
      "§ 1594 Anlegung von Euer die Hereitstelann diese Veraeusserungunge nurden, die sich aus der Mutter fuer einen Vertrag ueber den Vertragsschluss beind,uchen mitten, so erlischt zum Gegenstand hat, verweigern, wenn die Verwaltung des Nachlasses Teilanzhiedung unter Beruecksichtigung des Notar auf die Zuwendung vgl. § 578 Abs. 2 Satz 1 +++)\n",
      "(+++ § 559c: dem Annehmender urbansgigt oder sich bestimmt werden, dem Darlehensnehmer geeignete Modernis des Gericht. Der Niessbrauch an einer Teil, um dem Verkahren in betruegerischer Absicht gehandelt oder\n",
      "3.\n",
      "vor aenderungen nach den §§ 471, 2859 Abs. 1, § 173 Abs. 2 zu ueberpruefung.\n",
      "(2) Das Gleiche gemeinschaftliches Schulden ein Erbe oder der verstorbene Erbschaftsgegenstant, das widerrufen, wenn anzunehmen ist, dass der Verbraucher digitale Produkte der Reisepens nach den Absaetzen 1 bis 4 dieser Untextiodien.\n",
      "\n",
      "§ 159 Urteil des Verwenders\n",
      "Wer ein Geschaeftsfaehigkeit bestimmen sich nach der Abtrennung fuer ihn fuer den Reiseveranstalter zur Verfuegung Kanngliefer.\n",
      "(2) Die Vorschriften der §§ 1912, 1317, 2814, 1305, 1826b Absatz 2 Satz 1 bei fortgesetzt.\n",
      "Aufenthalt\n",
      "(1) Hat der Vermieter mit Regel, dass er dem Besteller der Palst sowie der Wille, die vereinbarte Anspruch des gemedesvertrags erfolgt.\n",
      "(2) Durch die Aufhebung der Forderung befugten, nachdem der blaeubiger nach § 1572 als Vormund bestellt werden.\n",
      "\n",
      "§ 1986a Wirkung der richterlassen zu unterrichten; bei Teilzeit-Wohnrechtevertraegen, Vertraegen ueber ein langfristigest muss 2. Stund des Vermietert.\n",
      "(3) Sofern der Reiseveranstalter im Wertp oder richtigkeit keine Angaben nach Absatz 3 Dre sind ni \n",
      "\n",
      "________________________________________________________________________________\n",
      "\n",
      "Run time: 6.083568096160889\n"
     ]
    }
   ],
   "source": [
    "one_step_model = OneStep(model, chars_from_ids, ids_from_chars)\n",
    "\n",
    "start = time.time()\n",
    "states = None\n",
    "next_char = tf.constant([' '])\n",
    "result = [next_char]\n",
    "\n",
    "for n in range(2000):\n",
    "  next_char, states = one_step_model.generate_one_step(\n",
    "      next_char, states=states)\n",
    "  result.append(next_char)\n",
    "\n",
    "result = tf.strings.join(result)\n",
    "end = time.time()\n",
    "print(result[0].numpy().decode('utf-8'), '\\n\\n' + '_'*80)\n",
    "print('\\nRun time:', end - start)\n"
   ]
  },
  {
   "cell_type": "code",
   "execution_count": 774,
   "metadata": {},
   "outputs": [
    {
     "name": "stdout",
     "output_type": "stream",
     "text": [
      "WARNING:tensorflow:Skipping full serialization of Keras layer <__main__.OneStep object at 0x0000027D1BDA0488>, because it is not built.\n"
     ]
    },
    {
     "name": "stderr",
     "output_type": "stream",
     "text": [
      "WARNING:tensorflow:Skipping full serialization of Keras layer <__main__.OneStep object at 0x0000027D1BDA0488>, because it is not built.\n",
      "WARNING:absl:Found untraced functions such as gru_cell_62_layer_call_fn, gru_cell_62_layer_call_and_return_conditional_losses, gru_cell_62_layer_call_fn, gru_cell_62_layer_call_and_return_conditional_losses, gru_cell_62_layer_call_and_return_conditional_losses while saving (showing 5 of 5). These functions will not be directly callable after loading.\n"
     ]
    },
    {
     "name": "stdout",
     "output_type": "stream",
     "text": [
      "INFO:tensorflow:Assets written to: one_step\\assets\n"
     ]
    },
    {
     "name": "stderr",
     "output_type": "stream",
     "text": [
      "INFO:tensorflow:Assets written to: one_step\\assets\n"
     ]
    }
   ],
   "source": [
    "tf.saved_model.save(one_step_model, 'one_step')\n",
    "one_step_reloaded = tf.saved_model.load('one_step')"
   ]
  },
  {
   "cell_type": "code",
   "execution_count": 773,
   "metadata": {},
   "outputs": [
    {
     "name": "stdout",
     "output_type": "stream",
     "text": [
      " Abt. 2 Satz 1 +++)\n",
      ":a+kt der Dritten in durch § 1310 Abs. 2 Satz 2, wenn sie dem Anfang der Hypothek, eine Weise als mit dem Monat sowohl der Eigentuemer das Vermoegen uebernames Teilhabers abhaengt. Der Markei, so kann er nur unter den Erben oder eines Mangelhafter Ersicherung einer Vormunks, die den Vertragschliessenden oder des Mietverhaeltnisses zwischen der zweiter Dritter insoweit\n",
      "(1) Wei einem eigenheit eine notarielle fuer die Lieferung einer Hyyothek, die zuzuegel hierung untirure, wilde gilt die Vorschrift des § 1378 Abs. 1 hinverlassenen Unterventsprich. Der Kuendigungspreis sechs Monate und ueber die Ehegatten anzubichen, es sei denn, dass, nach der Reiseveranstalter nach solchen dem in der Regel vorbiegen. Das Gesamtgut gekoendig anerklaeren, es sei denn, dass er zur Leistung bewinnt oder in den Faellen des § 144 entsprechende Anwendung, wenn die Fehlerhaftigkeit nicht vorziehen, gissanspauchsichtigt. Ist die Auflage sowie leendente kann nicht flei von Umpauf-Vollsichtlichkeit bewirkt werden.\n",
      "(3) Die §§ 401 bis 505 entsprechende Anwendung.\n",
      "(3) Ist zur Erfuellung einer Aufhebung des Falles den Vorschriften des § 169 kann durch Testament gehoert.\n",
      "\n",
      "§ 29 Aufloesungsrecht\n",
      "Die Ansprueche des Glaeubigers mit seinem Recht zu verlangen, ohne dass in der vorliengiger Grund vorliegt.\n",
      "(3) Die Aufforderung erlassen hat. Dem Erben auf sein Pachtvertrag kann der mithaptlaeselt nicht beruehrt.\n",
      "\n",
      "§§ 242, 777 Abs. 5 Abwikkung\n",
      "1.\n",
      "fuer die Seite bestellt werden; die Vorschrift des § 246 Abs. 2 Schwaerze erfolgen, wenn ein ihm ein anderer Reiseveranstalter gekannt hat; Umfang der gemeinsamen Nachlass jand\n",
      "2.\n",
      "kuendigend verantwortlich oder, Soweit nicht nach Absatz 1 oder § 1220 zulaessige Inhaberpapiere zu der Zahlung die Versuchernehmer und eines waehrend des Inzenomtungsperten verpflichten. Der Schaden nicht unerlauben werden, dass er ueber die Sondernachfolger tritt nicht, wenn die Zuwendung geeignetes vorziehen ist ein Schwangerschaft oder der Todeszeit benannten Nachlass allein zu tragen.\n",
      "(2) Die Bestellung schuldig gemacht oder dem durch den Zahlungsdienstnutzer in einem Betreuungsverein\n",
      "Nach von Landgare mit dem Tod des § 111 Abs. 2 und des § 716 Sinder auf die uebertragung von 39 Jahren und andere Kolgrente zu sein, erbraucherdarlehen zumitte; Drehmpentfaellige Sicherheit nach den fuer den Auftraggeben seiner Wahl von spaeternehmer. Hind nicht mitgilien, wie dem anderen Feststellung entsprechenden Kreditinstitut freiheitzeit bleibt der Beschluss auf ein solches Rechtsgeschaeft, das ein Brueher eines Gesamtschuldner und den Antrag zur Heblann eines anderen Grundstueck, kann ein Recht an einer solchen Verblaucher gemeinschaftlicher Form wird der Widerruf des Vormunds kann die Herstellung des Entlachers und fuer die Rechte und Begangelegerung befriedigt wird, sind nicht nach den Vorschriften ueber die Verjaehrung geltenden Vorschriften ueber die Gessarlatiften Erfolg nur besonderen Minderjeit zu informieren. Der besittert oder einen jewordenklief, eine den uebrigen gesetzlichen Vertreter zu erfuellen, der von einer Wertverlust desjenigen Ehenamen keinen Stuefuegenohmenen vornehmen und eine ueberschuss ist zu ergnetes oder einer seiner Veruebung der Ausuebung des zur Anwendung auf die Einraeumung darf 6Ventrag ein, soweit er fuer den Reiseveranstalter erforderlich; Bestimmungen buengen, die im Zusammenhang unwirksam.\n",
      "(T) ueber den Geburtsnamen seines Gesimms § 177l Absatz 1 Nummer 4 vor den Abschluss des Vertrags kann nach Massgahl dem Empfang der Vertragsschluss ohne eine andere als solche koennen die beumuscht, seiner Widerruf fuer den Pflichtteil erstreckt sich die Voraussetzungen des § 655 Absatz 4 erforderlichen. Der Ehegatte kann ein oder mehr als 24 Jugewohen oder den ihm nach den fuer die Verpfaendung (Vereinschaftlichen Hinborhaft.\n",
      "\n",
      "§ 1398 Einwendungen durch den Gegenvormunds\n",
      "Ist der Darlehensnehmer spaetestens bis zum Berichtigung von Dritten\n",
      "bie Anziehung der Renterheit weiterer Erklaerungen auf Erbver-ach verlangt und ergeben.\n",
      "\n",
      "§ 92 Reiseveranstalter Hypothek;\n",
      "1.\n",
      "Bei der Eheschliessung des Vereinsschaebenen ausdaukt, den eine wesentliche Erblasser den Zahlungsdienstnutzer mit einem anderen angemessener Haftung nicht zur Herstellung verweigern, ist eines anderen laufenden Zusetzen oder ueber den Ehegatten gemeinschaftlich; oder mit denen es gereichenden Rechtsverhaeltnis sich ein anderes Grodde bei Zuvenbhinden sich der Abzuz und den Verarbeitung oder einem Zahlungsvorgang beseitigen, zu dessen Gunsten der aenderung und die Guett anzunehmen, dass das Vermoegen nicht anzuwaechende Versicherung) andere Therauferen Bestimmungen entsprechende Anwendung.\n",
      "\n",
      "§ 1986 Muendliche Sorge\n",
      "Die Vorschrift des § 1979 findet entsprechende Anwendung.\n",
      "\n",
      "§ 1253 Nachlassvargeleht,\n",
      "es einen sich aus der Verordnung unter der Buergenfeldernde oder eine von einer Leistung verursacht hal.\n",
      "(2) Das Kind die Eltern es einen Vormund zu erfuellen sind, kann der Besteller geregelt werden, nachdem er sich gegenueber dem Besteller eine verspaetete Hypotheken oder einer Verfuegung mit Kuendigungsrecht des Betreuers geltenden Vorschriften gelten auch fuer eine von der Vereinbarung (Glassel oder aenderung des gezeugten Betreuten hinserheibt, dass er das Vereinsregister fuehrt. Wasenter seinen Hebunwaehoeren anzunehmen, dass er duerfen nicht berechnen.\n",
      "\n",
      "§ 693 Kwerde von auf Zu bindenn\n",
      "(1) Faellt dies richter die Berechnung des Anteils an den Unternehmer nach Absatz 1 Nummer 3 fillen entsprechende Anwendung, soweit nicht ein Widerspruch gegen den anderen als der in § 207 keitraues auch, was der Verfussen der folgenden Vorschriften koein im Verkauf erlangt. Teir Anspruch auf Seim verurteilt, so kann er die Aufforderung eines die siedenwegen des Werkes zu ersetzen. Venner vertretbare Maengel dem Nachlassgericht. Die Erklaerung erfolgt, wer die Verwandte des Beauftragten oder eines Paeifnehnung einzustehen, bereichert, so bedarf es der Zahlungsvorgang ausschliesslich der Erbschaft allein:\n",
      "Wird\n",
      "Die Anfechtung der Annahme rindes.\n",
      "(4) Das Gleiche gilt fuer die Nutzungen des Monatsbesammenden Entrichtung der Scholdes von Schoden den Glaeubiger.\n",
      "\n",
      "§ 1363 Ablehnung des Bundesrnannpermoegens\n",
      "Ist eine Gesellschaft koennen ist, juehren das Vermaechtnis oder einer sonstigen Lebenspartners gegen den Veraeusserer ist, so gelten die §§ 6afulverzleistungen anzunehmen, dass ein anderer zum Kfandes innerhalb eines Jahres nach dem Ende des Rechtsgeschaefts nicht anzuwenden.\n",
      "\n",
      "§ 575d Herausgabepflicht\n",
      "(1) Verzichtet dem Glaeubiger enthaelt, deu der Ehegatten ist oder in anzeig.\n",
      "Teteitig vor der Aufhebung der Ehe zu vertretenden Verwahrer ist in Ansehung dieser Vorschrift nach § 269 Absatz 1 und 2 gilt entsprechend.\n",
      "(4) Eine aerztliche Eingriff durchgefuehrt werden, wenn und solange die Erblasser kann nur bis zum bestelen unberuecksichtigung von Satz 3 eingetreten, die zur Hauter den Bedingungen z 1 Absatz 2) 6 und 4 bezeichneten Kosten abzugeben.\n",
      "(2) Die in Artikel 240 § 1 des Einfuehrungsgesetzes zum Buergerlichen Aufwendungen die erforderlichen Auftrag dem Vermutz bedarf der Vormund versprochen wird.\n",
      "(2) Das Faeivoeuer der Volljaehriger fruehestens verbfahren. Das Recht des Mieters fehnt und bei jaehigan des Gueterstands.\n",
      "(4) Das Vermoegen ist das zwei aufeinander zu gewaehren, es sei denn, dass er durch seine Familienangehoerigen sein ueberschust ueber. Die Inhalte der Bedingung eines Gesamtglaeubigers durch den Verbraucher unverzueglich anzuzeigen.\n",
      "(haert, das nachdem er die Strafe fuer eine fuer tot ohne die vorteilig, wenn sie ohne die geliefert, so kann der Testamentsvollstrecker die Eltern laesst fuer den Bezirune Hagen.\n",
      "\n",
      "§ 2997 Unterhaltsansprueche das Gesellschaftsvorgaenger\n",
      "\n",
      "§ 425 Pruefung des Ehegatten\n",
      "(1) Hehrere Sterbefoehungen nach Bauvertrag\n",
      "(1) Zusemzt sie nach der Beschaffenheit ueber die Miete oder die Erbschaft anzuzengen.\n",
      "(2) Von §§ 194, 17 Abs. 1, §§ 207 bis 207, abweichende Reucher solls gilt, wenn er den besitzbwidrichktinden sich der Bestimmung eines Anlagen getrennt lebenden Nuchern der Schenker gemachten Feststellung in der bestimmten Zeit Entgeht. (15 Ende ein Mangel infolge eines Dritten belastet,\n",
      "6.\n",
      "eine Vermoegensleger kann den Fall eingesetzt, wie ist der Annehmende die geleistet, es sei denn, die uebergabe einer allgemeinen Schuld oder auf Gegenverfung geschlossen hat, wenn er in Textform eine angelegt, eine Verjaehrungsfrist kuendigen. Soweit es nicht verteilt.\n",
      "(2) Die Genehmigung kann nur in Kenntnis in Kenntnis oder gilt im Vertrag entsprechend Anstrumenten eines Gesamthoenssenheit in das Fruechten verschafft und das Verfahren ein betriff des Muendels von Ehegatten dieses Unterhalts) er berechtigt, die Beamterauszahebvorbehisfer ein Rundesgast in jedem Moempertreiert sein soll, ein Sicherungshrenziert das Interesse des Verletzten gehoeren.\n",
      "(2) Der Unternehmer hat den Dienst oder den geschuldete Fuehrung eines der ihrer Berichtung geboten, so kann die fuer den Auftrag geltenden Vorschriften ausser Betracht, so kann der Eigentuemer koennen durch persoenlichkeit des Einlobers erschwert ist.\n",
      "\n",
      "§ 636 Sicherungivererken- Antersitztsucher\n",
      "(1) In den Leistung anforder ist und den er von dem Verein geschlossen, dass er bei verschiedenen Hfengt.\n",
      "\n",
      "§ 261 Verbrauchsgueterkaufpwunderke\n",
      "Hebortnes ersetzt werden. Kuendigt der Glaeubiger die Aufhebung der Fustizlosse nur dann geschaftet sein eigene Pflege oder von Koerperschaften unverzueglich nach § 1949 entsprechende Anwendung.\n",
      "\n",
      "§ 315 Rentenichtinko\n",
      "(1) Der Mieter ist zur muessen verursacht haben, nur dann einen Tod eines der Miet- oder Gestallt sind.\n",
      "(6) Eine zum Nachteil des Mieters abweichende Vereinbarung ist diejenigen gleichfall. In den Tabihanderen Vermoegen feklange und ihm spfotte\n",
      "(1) Was sechs Monaten.\n",
      "(2) Das Pfand vorliegt, bei der Angaben nach anerkannten wesentlichen Buerscheiden, in dem die erporderlichen Kuendigung ausgeschlossen, wenn der Dienstberechtigte von dem Erblasser nur mit Bundesmoenstigen Abkoemmlin\n"
     ]
    }
   ],
   "source": [
    "states = None\n",
    "next_char = tf.constant([' '])\n",
    "result = [next_char]\n",
    "\n",
    "for n in range(10000):\n",
    "  next_char, states = one_step_reloaded.generate_one_step(\n",
    "      next_char, states=states)\n",
    "  result.append(next_char)\n",
    "\n",
    "print(tf.strings.join(result)[0].numpy().decode(\"utf-8\"))\n"
   ]
  }
 ],
 "metadata": {
  "interpreter": {
   "hash": "bfa69aadc8bd388467703aaf44151a9211fe6f35a2058613865535f18fdcd8b1"
  },
  "kernelspec": {
   "display_name": "Python 3.7.9 64-bit",
   "language": "python",
   "name": "python3"
  },
  "language_info": {
   "codemirror_mode": {
    "name": "ipython",
    "version": 3
   },
   "file_extension": ".py",
   "mimetype": "text/x-python",
   "name": "python",
   "nbconvert_exporter": "python",
   "pygments_lexer": "ipython3",
   "version": "3.7.9"
  },
  "orig_nbformat": 4
 },
 "nbformat": 4,
 "nbformat_minor": 2
}
